{
 "cells": [
  {
   "cell_type": "code",
   "execution_count": 39,
   "id": "f3d1abc9",
   "metadata": {},
   "outputs": [],
   "source": [
    "import extruct\n",
    "import requests\n",
    "from pprint import pprint\n",
    "from bs4 import BeautifulSoup\n",
    "from w3lib.html import get_base_url\n",
    "from recipe_scrapers import scrape_me\n",
    "from bs4 import BeautifulSoup"
   ]
  },
  {
   "cell_type": "code",
   "execution_count": 40,
   "id": "bdb2bf40",
   "metadata": {},
   "outputs": [],
   "source": [
    "SYNTAXES = [\"json-ld\", \"microdata\"]\n",
    "\n",
    "def get_html(url: str, headers: dict={}) -> bytes:\n",
    "    headers = {\n",
    "        'Access-Control-Allow-Origin': '*',\n",
    "        'Access-Control-Allow-Methods': 'GET',\n",
    "        'Access-Control-Allow-Headers': 'Content-Type',\n",
    "        'Access-Control-Max-Age': '3600',\n",
    "        'User-Agent': 'Mozilla/5.0 (X11; Ubuntu; Linux x86_64; rv:52.0) Gecko/20100101 Firefox/52.0'\n",
    "    }\n",
    "    response = requests.get(url, headers=headers)\n",
    "    return response.text\n",
    "\n",
    "def get_metadata(html: bytes, url: str) -> dict:\n",
    "    metadata = extruct.extract(html, syntaxes=SYNTAXES, errors=\"log\", uniform=True)\n",
    "    return metadata\n",
    "\n",
    "def scrape(url: str, pretty_print: bool=False) -> dict:\n",
    "    \"\"\"Parse structured data from a target page.\"\"\"\n",
    "    html = get_html(url)\n",
    "    metadata = get_metadata(html, url)\n",
    "    if pretty_print:\n",
    "        pprint(metadata, indent=2, width=150)\n",
    "    return metadata"
   ]
  },
  {
   "cell_type": "markdown",
   "id": "b776d117",
   "metadata": {},
   "source": [
    "## Serious Eats"
   ]
  },
  {
   "cell_type": "code",
   "execution_count": 218,
   "id": "60c1abcc",
   "metadata": {},
   "outputs": [],
   "source": [
    "url = 'https://www.allrecipes.com/recipe/228238/goat-stew/'\n",
    "page = get_html(url)\n",
    "soup = BeautifulSoup(page, \"html.parser\")"
   ]
  },
  {
   "cell_type": "code",
   "execution_count": 219,
   "id": "a18bf785",
   "metadata": {},
   "outputs": [
    {
     "data": {
      "text/plain": [
       "<meta content=\"4.5777777777777775\" name=\"og:rating\"/>"
      ]
     },
     "execution_count": 219,
     "metadata": {},
     "output_type": "execute_result"
    }
   ],
   "source": [
    "soup.find('meta', {'name': 'og:rating'})"
   ]
  },
  {
   "cell_type": "code",
   "execution_count": 160,
   "id": "8cb64265",
   "metadata": {},
   "outputs": [],
   "source": [
    "tags = soup.find('ul', {'class': 'instructions-section'})"
   ]
  },
  {
   "cell_type": "code",
   "execution_count": 164,
   "id": "54bafcf1",
   "metadata": {},
   "outputs": [
    {
     "data": {
      "text/plain": [
       "'Mix goat meat with vinegar, soy sauce, and garlic in a large bowl; cover and refrigerate from 1 to 8 hours. For best flavor, marinate at least 6 hours. Remove meat from marinade and pat dry with paper towels; reserve marinade and garlic cloves.'"
      ]
     },
     "execution_count": 164,
     "metadata": {},
     "output_type": "execute_result"
    }
   ],
   "source": [
    "tags.find_all('p')[0].get_text()"
   ]
  },
  {
   "cell_type": "code",
   "execution_count": 172,
   "id": "aa737ebc",
   "metadata": {},
   "outputs": [],
   "source": [
    "text = soup.find('div', \n",
    "          {'class': 'recipe-nutrition-section'}\n",
    "         ).find('div', {'class': 'section-body'}).get_text().strip()"
   ]
  },
  {
   "cell_type": "code",
   "execution_count": 174,
   "id": "665a7154",
   "metadata": {},
   "outputs": [
    {
     "data": {
      "text/plain": [
       "True"
      ]
     },
     "execution_count": 174,
     "metadata": {},
     "output_type": "execute_result"
    }
   ],
   "source": [
    "text.endswith('Full Nutrition')"
   ]
  },
  {
   "cell_type": "code",
   "execution_count": 180,
   "id": "ce2abe12",
   "metadata": {},
   "outputs": [],
   "source": [
    "text = text.replace('. Full Nutrition', '')\n",
    "text2 = text.split(';')\n",
    "nutrition = {}\n",
    "nutrition['Calories'] = float(text2[0].split(' ')[0])"
   ]
  },
  {
   "cell_type": "code",
   "execution_count": 185,
   "id": "993c4a52",
   "metadata": {},
   "outputs": [
    {
     "data": {
      "text/plain": [
       "{'protein': '26.2g',\n",
       " 'carbohydrates': '27g',\n",
       " 'fat': '6.5g',\n",
       " 'cholesterol': '53.1mg',\n",
       " 'sodium': '1670.3mg'}"
      ]
     },
     "execution_count": 185,
     "metadata": {},
     "output_type": "execute_result"
    }
   ],
   "source": [
    "{t.strip().split(' ')[0]: t.strip().split(' ')[1] for t in text2[1:]}"
   ]
  },
  {
   "cell_type": "code",
   "execution_count": 189,
   "id": "ce408ea6",
   "metadata": {},
   "outputs": [],
   "source": [
    "import re"
   ]
  },
  {
   "cell_type": "code",
   "execution_count": 200,
   "id": "65925990",
   "metadata": {},
   "outputs": [],
   "source": [
    "pattern = re.compile('total')\n",
    "columns = soup.find_all('div', text='total', attrs={'class' : 'recipe-meta-item'})"
   ]
  },
  {
   "cell_type": "code",
   "execution_count": 201,
   "id": "e96441d9",
   "metadata": {},
   "outputs": [
    {
     "data": {
      "text/plain": [
       "[]"
      ]
     },
     "execution_count": 201,
     "metadata": {},
     "output_type": "execute_result"
    }
   ],
   "source": [
    "columns"
   ]
  },
  {
   "cell_type": "code",
   "execution_count": 203,
   "id": "7e1f38a6",
   "metadata": {},
   "outputs": [
    {
     "data": {
      "text/plain": [
       "[<meta charset=\"utf-8\"/>,\n",
       " <meta content=\"IE=edge\" http-equiv=\"X-UA-Compatible\"/>,\n",
       " <meta content=\"width=device-width,initial-scale=1\" name=\"viewport\"/>,\n",
       " <meta content=\"This goat meat stew is a version of a beloved Filipino dish (calderata) with carrots, potatoes, and peas in a flavorful tomato sauce. Serve it hot over cooked rice.\" name=\"description\"/>,\n",
       " <meta content=\"Goat Stew\" property=\"og:title\"/>,\n",
       " <meta content=\"article\" property=\"og:type\"/>,\n",
       " <meta content=\"Allrecipes\" property=\"og:site_name\"/>,\n",
       " <meta content=\"https://www.allrecipes.com/recipe/228238/goat-stew/\" property=\"og:url\"/>,\n",
       " <meta content=\"This goat meat stew is a version of a beloved Filipino dish (calderata) with carrots, potatoes, and peas in a flavorful tomato sauce. Serve it hot over cooked rice. \" property=\"og:description\"/>,\n",
       " <meta content=\"https://www.allrecipes.com/recipe/228238/goat-stew/\" name=\"pinterest:url\"/>,\n",
       " <meta content=\"summary_large_image\" name=\"twitter:card\"/>,\n",
       " <meta content=\"https://www.allrecipes.com/recipe/228238/goat-stew/\" name=\"twitter:url\"/>,\n",
       " <meta content=\"Goat Stew\" name=\"twitter:title\"/>,\n",
       " <meta content=\"This goat meat stew is a version of a beloved Filipino dish (calderata) with carrots, potatoes, and peas in a flavorful tomato sauce. Serve it hot over cooked rice.\" name=\"twitter:description\"/>,\n",
       " <meta content=\"https://imagesvc.meredithcorp.io/v3/mm/image?url=https%3A%2F%2Fimages.media-allrecipes.com%2Fuserphotos%2F6944310.jpg\" name=\"pinterest:media\"/>,\n",
       " <meta content=\"https://imagesvc.meredithcorp.io/v3/mm/image?q=85&amp;c=sc&amp;poi=face&amp;url=https%3A%2F%2Fimages.media-allrecipes.com%2Fuserphotos%2F6944310.jpg\" name=\"twitter:image\"/>,\n",
       " <meta content=\"https://imagesvc.meredithcorp.io/v3/mm/image?q=85&amp;c=sc&amp;poi=face&amp;url=https%3A%2F%2Fimages.media-allrecipes.com%2Fuserphotos%2F6944310.jpg\" property=\"og:image\"/>,\n",
       " <meta content=\"4.5777777777777775\" name=\"og:rating\"/>,\n",
       " <meta content=\"5\" name=\"og:rating_scale\"/>,\n",
       " <meta content=\"max-image-preview:large\" name=\"robots\"/>,\n",
       " <meta content=\"66102450266\" property=\"fb:app_id\"/>,\n",
       " <meta content=\"71158748377\" property=\"fb:pages\"/>]"
      ]
     },
     "execution_count": 203,
     "metadata": {},
     "output_type": "execute_result"
    }
   ],
   "source": [
    "soup.find_all('meta')"
   ]
  },
  {
   "cell_type": "code",
   "execution_count": 212,
   "id": "4cfba074",
   "metadata": {},
   "outputs": [
    {
     "data": {
      "text/plain": [
       "'Stews'"
      ]
     },
     "execution_count": 212,
     "metadata": {},
     "output_type": "execute_result"
    }
   ],
   "source": [
    "soup.find('a', {'class': 'breadcrumbs__link--last'}).find('span').get_text()"
   ]
  },
  {
   "cell_type": "code",
   "execution_count": null,
   "id": "f30fa3b4",
   "metadata": {},
   "outputs": [],
   "source": []
  }
 ],
 "metadata": {
  "kernelspec": {
   "display_name": "Python 3",
   "language": "python",
   "name": "python3"
  },
  "language_info": {
   "codemirror_mode": {
    "name": "ipython",
    "version": 3
   },
   "file_extension": ".py",
   "mimetype": "text/x-python",
   "name": "python",
   "nbconvert_exporter": "python",
   "pygments_lexer": "ipython3",
   "version": "3.8.8"
  }
 },
 "nbformat": 4,
 "nbformat_minor": 5
}
