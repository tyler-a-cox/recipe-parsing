{
 "cells": [
  {
   "cell_type": "code",
   "execution_count": 65,
   "id": "bd01d000",
   "metadata": {},
   "outputs": [],
   "source": [
    "import extruct\n",
    "import requests\n",
    "from pprint import pprint\n",
    "from bs4 import BeautifulSoup\n",
    "from w3lib.html import get_base_url"
   ]
  },
  {
   "cell_type": "code",
   "execution_count": 100,
   "id": "4952252f",
   "metadata": {},
   "outputs": [],
   "source": [
    "url = 'https://cookieandkate.com/best-tahini-sauce-recipe/'\n",
    "url1 = 'https://www.bonappetit.com/recipe/chicken-tikka-masala'\n",
    "url2 = 'https://www.delish.com/cooking/recipe-ideas/recipes/a46330/skillet-sicilian-chicken-recipe/'"
   ]
  },
  {
   "cell_type": "code",
   "execution_count": 101,
   "id": "ad9682de",
   "metadata": {},
   "outputs": [],
   "source": [
    "def get_html(url: str, headers: dict={}) -> bytes:\n",
    "    headers = {\n",
    "        'Access-Control-Allow-Origin': '*',\n",
    "        'Access-Control-Allow-Methods': 'GET',\n",
    "        'Access-Control-Allow-Headers': 'Content-Type',\n",
    "        'Access-Control-Max-Age': '3600',\n",
    "        'User-Agent': 'Mozilla/5.0 (X11; Ubuntu; Linux x86_64; rv:52.0) Gecko/20100101 Firefox/52.0'\n",
    "    }\n",
    "    response = requests.get(url, headers=headers)\n",
    "    return response.text"
   ]
  },
  {
   "cell_type": "code",
   "execution_count": 102,
   "id": "9567a716",
   "metadata": {},
   "outputs": [],
   "source": [
    "def get_metadata(html: bytes, url: str) -> dict:\n",
    "    metadata = extruct.extract(\n",
    "        html,\n",
    "        base_url=get_base_url(url),\n",
    "        syntaxes=['json-ld'],\n",
    "        uniform=True\n",
    "    )['json-ld']\n",
    "    if bool(metadata) and isinstance(metadata, list):\n",
    "        metadata = metadata[0]\n",
    "    return metadata"
   ]
  },
  {
   "cell_type": "code",
   "execution_count": 103,
   "id": "5ab89117",
   "metadata": {},
   "outputs": [],
   "source": [
    "def scrape(url: str, pretty_print: bool=False) -> dict:\n",
    "    \"\"\"Parse structured data from a target page.\"\"\"\n",
    "    html = get_html(url)\n",
    "    metadata = get_metadata(html, url)\n",
    "    if pretty_print:\n",
    "        pprint(metadata, indent=2, width=150)\n",
    "    return metadata"
   ]
  },
  {
   "cell_type": "code",
   "execution_count": 108,
   "id": "01d881d9",
   "metadata": {},
   "outputs": [],
   "source": [
    "metadata = scrape(url)\n",
    "delish_metadata = scrape(url2)\n",
    "ba_metadata = scrape('https://www.bonappetit.com/recipe/chicken-tikka-masala')"
   ]
  },
  {
   "cell_type": "code",
   "execution_count": 109,
   "id": "9003a797",
   "metadata": {},
   "outputs": [
    {
     "data": {
      "text/plain": [
       "dict_keys(['@context', '@type', 'articleBody', 'alternativeHeadline', 'keywords', 'thumbnailUrl', 'publisher', 'isPartOf', 'isAccessibleForFree', 'author', 'aggregateRating', 'description', 'image', 'headline', 'name', 'recipeIngredient', 'recipeInstructions', 'recipeYield', 'url', 'dateModified', 'datePublished'])"
      ]
     },
     "execution_count": 109,
     "metadata": {},
     "output_type": "execute_result"
    }
   ],
   "source": [
    "ba_metadata.keys()"
   ]
  },
  {
   "cell_type": "code",
   "execution_count": 110,
   "id": "49398098",
   "metadata": {},
   "outputs": [
    {
     "data": {
      "text/plain": [
       "'Chicken Tikka Masala'"
      ]
     },
     "execution_count": 110,
     "metadata": {},
     "output_type": "execute_result"
    }
   ],
   "source": [
    "ba_metadata['headline']"
   ]
  },
  {
   "cell_type": "code",
   "execution_count": 113,
   "id": "2ddadf4b",
   "metadata": {},
   "outputs": [
    {
     "data": {
      "text/plain": [
       "dict_keys(['@graph', '@context', 'url', 'publisher', '@type', 'author', 'datePublished', 'headline', 'image', 'mainEntityOfPage', 'thumbnailUrl', 'dateModified', 'isAccessibleForFree', 'hasPart', 'name', 'prepTime', 'cookTime', 'totalTime', 'recipeIngredient', 'recipeInstructions', 'video', 'recipeCuisine', 'aggregateRating', 'review', 'recipeCategory', 'recipeYield', 'description', 'keywords'])"
      ]
     },
     "execution_count": 113,
     "metadata": {},
     "output_type": "execute_result"
    }
   ],
   "source": [
    "delish_metadata.keys()"
   ]
  },
  {
   "cell_type": "code",
   "execution_count": 118,
   "id": "c4732746",
   "metadata": {},
   "outputs": [],
   "source": [
    "import re\n",
    "def cleanhtml(raw_html):\n",
    "    cleanr = re.compile('<.*?>')\n",
    "    cleantext = re.sub(cleanr, '', raw_html)\n",
    "    return cleantext"
   ]
  },
  {
   "cell_type": "code",
   "execution_count": 119,
   "id": "04ea61eb",
   "metadata": {},
   "outputs": [
    {
     "data": {
      "text/plain": [
       "'1 tbsp. extra-virgin olive oil'"
      ]
     },
     "execution_count": 119,
     "metadata": {},
     "output_type": "execute_result"
    }
   ],
   "source": [
    "cleanhtml(delish_metadata['recipeIngredient'][0])"
   ]
  },
  {
   "cell_type": "code",
   "execution_count": null,
   "id": "c27a312d",
   "metadata": {},
   "outputs": [],
   "source": [
    "re.sub('<>', '', delish_metadata['recipeIngredient'][0])"
   ]
  },
  {
   "cell_type": "markdown",
   "id": "2d5ea26d",
   "metadata": {},
   "source": [
    "- Remove `<p>` tags from ingredient"
   ]
  },
  {
   "cell_type": "code",
   "execution_count": 112,
   "id": "cdff7d33",
   "metadata": {},
   "outputs": [
    {
     "data": {
      "text/plain": [
       "'Marry Me Chicken'"
      ]
     },
     "execution_count": 112,
     "metadata": {},
     "output_type": "execute_result"
    }
   ],
   "source": [
    "delish_metadata['headline']"
   ]
  },
  {
   "cell_type": "code",
   "execution_count": 81,
   "id": "5ac41572",
   "metadata": {},
   "outputs": [
    {
     "data": {
      "text/plain": [
       "{'@type': 'Organization',\n",
       " '@id': 'https://cookieandkate.com/#organization',\n",
       " 'name': 'Cookie and Kate',\n",
       " 'url': 'https://cookieandkate.com/',\n",
       " 'sameAs': ['https://www.facebook.com/cookieandkate',\n",
       "  'https://instagram.com/cookieandkate',\n",
       "  'https://www.linkedin.com/in/kathryne-taylor-20012213/',\n",
       "  'https://www.youtube.com/user/cookieandkate/',\n",
       "  'https://www.pinterest.com/cookieandkate/',\n",
       "  'https://twitter.com/cookieandkate'],\n",
       " 'logo': {'@type': 'ImageObject',\n",
       "  '@id': 'https://cookieandkate.com/#logo',\n",
       "  'inLanguage': 'en-US',\n",
       "  'url': 'https://cookieandkate.com/images/2017/04/header-google.jpg',\n",
       "  'contentUrl': 'https://cookieandkate.com/images/2017/04/header-google.jpg',\n",
       "  'width': 782,\n",
       "  'height': 336,\n",
       "  'caption': 'Cookie and Kate'},\n",
       " 'image': {'@id': 'https://cookieandkate.com/#logo'}}"
      ]
     },
     "execution_count": 81,
     "metadata": {},
     "output_type": "execute_result"
    }
   ],
   "source": [
    "metadata['@graph'][0]"
   ]
  },
  {
   "cell_type": "code",
   "execution_count": 82,
   "id": "f42b9ee3",
   "metadata": {},
   "outputs": [
    {
     "data": {
      "text/plain": [
       "{'@type': 'WebSite',\n",
       " '@id': 'https://cookieandkate.com/#website',\n",
       " 'url': 'https://cookieandkate.com/',\n",
       " 'name': 'Cookie and Kate',\n",
       " 'description': 'Whole Foods and Vegetarian Recipe Blog',\n",
       " 'publisher': {'@id': 'https://cookieandkate.com/#organization'},\n",
       " 'potentialAction': [{'@type': 'SearchAction',\n",
       "   'target': {'@type': 'EntryPoint',\n",
       "    'urlTemplate': 'https://cookieandkate.com/?s={search_term_string}'},\n",
       "   'query-input': 'required name=search_term_string'}],\n",
       " 'inLanguage': 'en-US'}"
      ]
     },
     "execution_count": 82,
     "metadata": {},
     "output_type": "execute_result"
    }
   ],
   "source": [
    "metadata['@graph'][1]"
   ]
  },
  {
   "cell_type": "code",
   "execution_count": 84,
   "id": "8a777331",
   "metadata": {},
   "outputs": [
    {
     "data": {
      "text/plain": [
       "{'@type': 'ImageObject',\n",
       " '@id': 'https://cookieandkate.com/best-tahini-sauce-recipe/#primaryimage',\n",
       " 'inLanguage': 'en-US',\n",
       " 'url': 'https://cookieandkate.com/images/2018/05/creamy-tahini-sauce-drizzle.jpg',\n",
       " 'contentUrl': 'https://cookieandkate.com/images/2018/05/creamy-tahini-sauce-drizzle.jpg',\n",
       " 'width': 1100,\n",
       " 'height': 1648,\n",
       " 'caption': 'creamy tahini sauce drizzle'}"
      ]
     },
     "execution_count": 84,
     "metadata": {},
     "output_type": "execute_result"
    }
   ],
   "source": [
    "metadata['@graph'][2]"
   ]
  },
  {
   "cell_type": "code",
   "execution_count": 85,
   "id": "ae068715",
   "metadata": {},
   "outputs": [
    {
     "data": {
      "text/plain": [
       "{'@type': 'WebPage',\n",
       " '@id': 'https://cookieandkate.com/best-tahini-sauce-recipe/#webpage',\n",
       " 'url': 'https://cookieandkate.com/best-tahini-sauce-recipe/',\n",
       " 'name': 'Best Tahini Sauce Recipe - Cookie and Kate',\n",
       " 'isPartOf': {'@id': 'https://cookieandkate.com/#website'},\n",
       " 'primaryImageOfPage': {'@id': 'https://cookieandkate.com/best-tahini-sauce-recipe/#primaryimage'},\n",
       " 'datePublished': '2018-06-06T12:45:06+00:00',\n",
       " 'dateModified': '2020-05-22T17:54:09+00:00',\n",
       " 'description': \"Learn how to make ultra creamy tahini sauce! The best tahini sauce is ultra creamy, deliciously tangy and irresistible. This recipe is easy to make, too. You'll just need a whisk!\",\n",
       " 'breadcrumb': {'@id': 'https://cookieandkate.com/best-tahini-sauce-recipe/#breadcrumb'},\n",
       " 'inLanguage': 'en-US',\n",
       " 'potentialAction': [{'@type': 'ReadAction',\n",
       "   'target': ['https://cookieandkate.com/best-tahini-sauce-recipe/']}]}"
      ]
     },
     "execution_count": 85,
     "metadata": {},
     "output_type": "execute_result"
    }
   ],
   "source": [
    "metadata['@graph'][3]"
   ]
  },
  {
   "cell_type": "code",
   "execution_count": 54,
   "id": "66a662fe",
   "metadata": {},
   "outputs": [
    {
     "data": {
      "text/plain": [
       "'6 servings'"
      ]
     },
     "execution_count": 54,
     "metadata": {},
     "output_type": "execute_result"
    }
   ],
   "source": [
    "metadata['recipeYield']"
   ]
  },
  {
   "cell_type": "code",
   "execution_count": 30,
   "id": "c8968867",
   "metadata": {},
   "outputs": [
    {
     "data": {
      "text/plain": [
       "['6 garlic cloves, finely grated',\n",
       " '4 tsp. finely grated peeled ginger',\n",
       " '4 tsp. ground turmeric',\n",
       " '2 tsp. garam masala',\n",
       " '2 tsp. ground coriander',\n",
       " '2 tsp. ground cumin',\n",
       " '1½ cups whole-milk yogurt (not Greek)',\n",
       " '1 Tbsp. kosher salt',\n",
       " '2 lb. skinless, boneless chicken breasts, halved lengthwise',\n",
       " '3 Tbsp. ghee (clarified butter) or vegetable oil',\n",
       " '1 small onion, thinly sliced',\n",
       " '¼ cup tomato paste',\n",
       " '6 cardamom pods, crushed',\n",
       " '2 dried chiles de árbol or ½ tsp. crushed red pepper flakes',\n",
       " '1 28-oz. can whole peeled tomatoes, like San Marzano',\n",
       " '2 cups heavy cream',\n",
       " '¾ cup chopped cilantro, plus sprigs for garnish',\n",
       " 'Steamed basmati rice (for serving)']"
      ]
     },
     "execution_count": 30,
     "metadata": {},
     "output_type": "execute_result"
    }
   ],
   "source": [
    "metadata['recipeIngredient']"
   ]
  },
  {
   "cell_type": "code",
   "execution_count": 32,
   "id": "921a68ec",
   "metadata": {},
   "outputs": [
    {
     "data": {
      "text/plain": [
       "[{'@type': 'HowToStep',\n",
       "  'text': 'Combine garlic, ginger, turmeric, garam masala, coriander, and cumin in a small bowl. Whisk yogurt, salt, and half of spice mixture in a medium bowl; add chicken and turn to coat. Cover and chill 4-6 hours. Cover and chill remaining spice mixture.'},\n",
       " {'@type': 'HowToStep',\n",
       "  'text': 'Heat ghee in a large heavy pot over medium heat. Add onion, tomato paste, cardamom, and chiles and cook, stirring often, until tomato paste has darkened and onion is soft, about 5 minutes. Add remaining half of spice mixture and cook, stirring often, until bottom of pot begins to brown, about 4 minutes.'},\n",
       " {'@type': 'HowToStep',\n",
       "  'text': 'Add tomatoes with juices, crushing them with your hands as you add them. Bring to a boil, reduce heat, and simmer, stirring often and scraping up browned bits from bottom of pot, until sauce thickens, 8-10 minutes.'},\n",
       " {'@type': 'HowToStep',\n",
       "  'text': 'Add cream and chopped cilantro. Simmer, stirring occasionally, until sauce thickens, 30-40 minutes.'},\n",
       " {'@type': 'HowToStep',\n",
       "  'text': 'Meanwhile, preheat broiler. Line a rimmed baking sheet with foil and set a wire rack inside sheet. Arrange chicken on rack in a single layer. Broil until chicken starts to blacken in spots (it will not be cooked through), about 10 minutes.'},\n",
       " {'@type': 'HowToStep',\n",
       "  'text': 'Cut chicken into bite-size pieces, add to sauce, and simmer, stirring occasionally, until chicken is cooked through, 8-10 minutes. Serve with rice and cilantro sprigs.\\nDo Ahead: Chicken can be made 2 days ahead. Cover; chill. Reheat before serving.'},\n",
       " {'@type': 'HowToStep', 'text': ''}]"
      ]
     },
     "execution_count": 32,
     "metadata": {},
     "output_type": "execute_result"
    }
   ],
   "source": [
    "metadata['recipeInstructions']"
   ]
  },
  {
   "cell_type": "code",
   "execution_count": 34,
   "id": "f9af47f5",
   "metadata": {},
   "outputs": [
    {
     "data": {
      "text/plain": [
       "'For this chicken tikka masala recipe, the yogurt helps tenderize the chicken; the garlic, ginger, and spices in the marinade infuse it with lots of flavor.'"
      ]
     },
     "execution_count": 34,
     "metadata": {},
     "output_type": "execute_result"
    }
   ],
   "source": [
    "metadata['description']"
   ]
  },
  {
   "cell_type": "code",
   "execution_count": 38,
   "id": "55ad3f77",
   "metadata": {},
   "outputs": [
    {
     "data": {
      "text/plain": [
       "['https://assets.bonappetit.com/photos/5b69f163d3d14670539a2174/5:7/w_1900,h_2660,c_limit/ba-tikka-masala-2.jpg',\n",
       " 'https://assets.bonappetit.com/photos/5b69f163d3d14670539a2174/6:9/w_1776,h_2664,c_limit/ba-tikka-masala-2.jpg',\n",
       " 'https://assets.bonappetit.com/photos/5b69f163d3d14670539a2174/5:4/w_3330,h_2664,c_limit/ba-tikka-masala-2.jpg',\n",
       " 'https://assets.bonappetit.com/photos/5b69f163d3d14670539a2174/8:5/w_4264,h_2665,c_limit/ba-tikka-masala-2.jpg',\n",
       " 'https://assets.bonappetit.com/photos/5b69f163d3d14670539a2174/3:2/w_3999,h_2666,c_limit/ba-tikka-masala-2.jpg',\n",
       " 'https://assets.bonappetit.com/photos/5b69f163d3d14670539a2174/16:9/w_4736,h_2664,c_limit/ba-tikka-masala-2.jpg',\n",
       " 'https://assets.bonappetit.com/photos/5b69f163d3d14670539a2174/4:3/w_3552,h_2664,c_limit/ba-tikka-masala-2.jpg',\n",
       " 'https://assets.bonappetit.com/photos/5b69f163d3d14670539a2174/1:1/w_2666,h_2666,c_limit/ba-tikka-masala-2.jpg']"
      ]
     },
     "execution_count": 38,
     "metadata": {},
     "output_type": "execute_result"
    }
   ],
   "source": [
    "metadata['image']"
   ]
  },
  {
   "cell_type": "code",
   "execution_count": 39,
   "id": "710746b2",
   "metadata": {},
   "outputs": [
    {
     "data": {
      "text/plain": [
       "[{'@type': 'Person',\n",
       "  'name': 'Alison Roman',\n",
       "  'sameAs': 'https://www.bonappetit.com/contributor/alison-roman'}]"
      ]
     },
     "execution_count": 39,
     "metadata": {},
     "output_type": "execute_result"
    }
   ],
   "source": [
    "metadata['author']"
   ]
  },
  {
   "cell_type": "code",
   "execution_count": 87,
   "id": "3058c53b",
   "metadata": {},
   "outputs": [
    {
     "ename": "TypeError",
     "evalue": "non-default argument 'line' follows default argument",
     "output_type": "error",
     "traceback": [
      "\u001b[0;31m---------------------------------------------------------------------------\u001b[0m",
      "\u001b[0;31mTypeError\u001b[0m                                 Traceback (most recent call last)",
      "\u001b[0;32m<ipython-input-87-78bd361d3db5>\u001b[0m in \u001b[0;36m<module>\u001b[0;34m\u001b[0m\n\u001b[1;32m      3\u001b[0m \u001b[0;34m\u001b[0m\u001b[0m\n\u001b[1;32m      4\u001b[0m \u001b[0;34m@\u001b[0m\u001b[0mdataclass\u001b[0m\u001b[0;34m\u001b[0m\u001b[0;34m\u001b[0m\u001b[0m\n\u001b[0;32m----> 5\u001b[0;31m \u001b[0;32mclass\u001b[0m \u001b[0mIngredient\u001b[0m\u001b[0;34m:\u001b[0m\u001b[0;34m\u001b[0m\u001b[0;34m\u001b[0m\u001b[0m\n\u001b[0m\u001b[1;32m      6\u001b[0m     \u001b[0mproduct\u001b[0m\u001b[0;34m:\u001b[0m \u001b[0mstr\u001b[0m \u001b[0;34m=\u001b[0m \u001b[0;34m\"\"\u001b[0m\u001b[0;34m\u001b[0m\u001b[0;34m\u001b[0m\u001b[0m\n\u001b[1;32m      7\u001b[0m     \u001b[0mquantity\u001b[0m\u001b[0;34m:\u001b[0m \u001b[0mfloat\u001b[0m \u001b[0;34m=\u001b[0m \u001b[0;36m0.0\u001b[0m\u001b[0;34m\u001b[0m\u001b[0;34m\u001b[0m\u001b[0m\n",
      "\u001b[0;32m/usr/local/anaconda3/lib/python3.8/dataclasses.py\u001b[0m in \u001b[0;36mdataclass\u001b[0;34m(cls, init, repr, eq, order, unsafe_hash, frozen)\u001b[0m\n\u001b[1;32m   1017\u001b[0m \u001b[0;34m\u001b[0m\u001b[0m\n\u001b[1;32m   1018\u001b[0m     \u001b[0;31m# We're called as @dataclass without parens.\u001b[0m\u001b[0;34m\u001b[0m\u001b[0;34m\u001b[0m\u001b[0;34m\u001b[0m\u001b[0m\n\u001b[0;32m-> 1019\u001b[0;31m     \u001b[0;32mreturn\u001b[0m \u001b[0mwrap\u001b[0m\u001b[0;34m(\u001b[0m\u001b[0mcls\u001b[0m\u001b[0;34m)\u001b[0m\u001b[0;34m\u001b[0m\u001b[0;34m\u001b[0m\u001b[0m\n\u001b[0m\u001b[1;32m   1020\u001b[0m \u001b[0;34m\u001b[0m\u001b[0m\n\u001b[1;32m   1021\u001b[0m \u001b[0;34m\u001b[0m\u001b[0m\n",
      "\u001b[0;32m/usr/local/anaconda3/lib/python3.8/dataclasses.py\u001b[0m in \u001b[0;36mwrap\u001b[0;34m(cls)\u001b[0m\n\u001b[1;32m   1009\u001b[0m \u001b[0;34m\u001b[0m\u001b[0m\n\u001b[1;32m   1010\u001b[0m     \u001b[0;32mdef\u001b[0m \u001b[0mwrap\u001b[0m\u001b[0;34m(\u001b[0m\u001b[0mcls\u001b[0m\u001b[0;34m)\u001b[0m\u001b[0;34m:\u001b[0m\u001b[0;34m\u001b[0m\u001b[0;34m\u001b[0m\u001b[0m\n\u001b[0;32m-> 1011\u001b[0;31m         \u001b[0;32mreturn\u001b[0m \u001b[0m_process_class\u001b[0m\u001b[0;34m(\u001b[0m\u001b[0mcls\u001b[0m\u001b[0;34m,\u001b[0m \u001b[0minit\u001b[0m\u001b[0;34m,\u001b[0m \u001b[0mrepr\u001b[0m\u001b[0;34m,\u001b[0m \u001b[0meq\u001b[0m\u001b[0;34m,\u001b[0m \u001b[0morder\u001b[0m\u001b[0;34m,\u001b[0m \u001b[0munsafe_hash\u001b[0m\u001b[0;34m,\u001b[0m \u001b[0mfrozen\u001b[0m\u001b[0;34m)\u001b[0m\u001b[0;34m\u001b[0m\u001b[0;34m\u001b[0m\u001b[0m\n\u001b[0m\u001b[1;32m   1012\u001b[0m \u001b[0;34m\u001b[0m\u001b[0m\n\u001b[1;32m   1013\u001b[0m     \u001b[0;31m# See if we're being called as @dataclass or @dataclass().\u001b[0m\u001b[0;34m\u001b[0m\u001b[0;34m\u001b[0m\u001b[0;34m\u001b[0m\u001b[0m\n",
      "\u001b[0;32m/usr/local/anaconda3/lib/python3.8/dataclasses.py\u001b[0m in \u001b[0;36m_process_class\u001b[0;34m(cls, init, repr, eq, order, unsafe_hash, frozen)\u001b[0m\n\u001b[1;32m    923\u001b[0m                 if f._field_type in (_FIELD, _FIELD_INITVAR)]\n\u001b[1;32m    924\u001b[0m         _set_new_attribute(cls, '__init__',\n\u001b[0;32m--> 925\u001b[0;31m                            _init_fn(flds,\n\u001b[0m\u001b[1;32m    926\u001b[0m                                     \u001b[0mfrozen\u001b[0m\u001b[0;34m,\u001b[0m\u001b[0;34m\u001b[0m\u001b[0;34m\u001b[0m\u001b[0m\n\u001b[1;32m    927\u001b[0m                                     \u001b[0mhas_post_init\u001b[0m\u001b[0;34m,\u001b[0m\u001b[0;34m\u001b[0m\u001b[0;34m\u001b[0m\u001b[0m\n",
      "\u001b[0;32m/usr/local/anaconda3/lib/python3.8/dataclasses.py\u001b[0m in \u001b[0;36m_init_fn\u001b[0;34m(fields, frozen, has_post_init, self_name, globals)\u001b[0m\n\u001b[1;32m    500\u001b[0m                 \u001b[0mseen_default\u001b[0m \u001b[0;34m=\u001b[0m \u001b[0;32mTrue\u001b[0m\u001b[0;34m\u001b[0m\u001b[0;34m\u001b[0m\u001b[0m\n\u001b[1;32m    501\u001b[0m             \u001b[0;32melif\u001b[0m \u001b[0mseen_default\u001b[0m\u001b[0;34m:\u001b[0m\u001b[0;34m\u001b[0m\u001b[0;34m\u001b[0m\u001b[0m\n\u001b[0;32m--> 502\u001b[0;31m                 raise TypeError(f'non-default argument {f.name!r} '\n\u001b[0m\u001b[1;32m    503\u001b[0m                                 'follows default argument')\n\u001b[1;32m    504\u001b[0m \u001b[0;34m\u001b[0m\u001b[0m\n",
      "\u001b[0;31mTypeError\u001b[0m: non-default argument 'line' follows default argument"
     ]
    }
   ],
   "source": [
    "from dataclasses import dataclass, field\n",
    "\n",
    "\n",
    "@dataclass\n",
    "class Ingredient:\n",
    "    product: str = \"\"\n",
    "    quantity: float = 0.0\n",
    "    unit: str = \"\"\n",
    "    line: str = field(repr=False)\n"
   ]
  },
  {
   "cell_type": "code",
   "execution_count": 89,
   "id": "ed6d4e96",
   "metadata": {},
   "outputs": [],
   "source": [
    "from dataclasses import dataclass\n",
    "\n",
    "\n",
    "@dataclass\n",
    "class Ingredient:\n",
    "    product: str\n",
    "    quantity: float\n",
    "    unit: str\n",
    "    line: str\n"
   ]
  },
  {
   "cell_type": "code",
   "execution_count": 90,
   "id": "87580720",
   "metadata": {},
   "outputs": [
    {
     "data": {
      "text/plain": [
       "Ingredient(product='egg', quantity=1.0, unit='', line='1 egg')"
      ]
     },
     "execution_count": 90,
     "metadata": {},
     "output_type": "execute_result"
    }
   ],
   "source": [
    "Ingredient(product='egg', quantity=1.0, unit='', line='1 egg')"
   ]
  },
  {
   "cell_type": "code",
   "execution_count": null,
   "id": "ac5aca2e",
   "metadata": {},
   "outputs": [],
   "source": []
  }
 ],
 "metadata": {
  "kernelspec": {
   "display_name": "Python 3",
   "language": "python",
   "name": "python3"
  },
  "language_info": {
   "codemirror_mode": {
    "name": "ipython",
    "version": 3
   },
   "file_extension": ".py",
   "mimetype": "text/x-python",
   "name": "python",
   "nbconvert_exporter": "python",
   "pygments_lexer": "ipython3",
   "version": "3.8.8"
  }
 },
 "nbformat": 4,
 "nbformat_minor": 5
}
