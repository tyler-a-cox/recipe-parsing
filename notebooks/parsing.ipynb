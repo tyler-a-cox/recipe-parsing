{
 "cells": [
  {
   "cell_type": "code",
   "execution_count": 65,
   "id": "1df2d365",
   "metadata": {},
   "outputs": [],
   "source": [
    "import extruct\n",
    "import requests\n",
    "from pprint import pprint\n",
    "from bs4 import BeautifulSoup\n",
    "from w3lib.html import get_base_url"
   ]
  },
  {
   "cell_type": "code",
   "execution_count": 66,
   "id": "0ba2985f",
   "metadata": {},
   "outputs": [],
   "source": [
    "url = 'https://cookieandkate.com/best-tahini-sauce-recipe/'"
   ]
  },
  {
   "cell_type": "code",
   "execution_count": 67,
   "id": "a5782ac5",
   "metadata": {},
   "outputs": [],
   "source": [
    "def get_html(url: str, headers: dict={}) -> bytes:\n",
    "    headers = {\n",
    "        'Access-Control-Allow-Origin': '*',\n",
    "        'Access-Control-Allow-Methods': 'GET',\n",
    "        'Access-Control-Allow-Headers': 'Content-Type',\n",
    "        'Access-Control-Max-Age': '3600',\n",
    "        'User-Agent': 'Mozilla/5.0 (X11; Ubuntu; Linux x86_64; rv:52.0) Gecko/20100101 Firefox/52.0'\n",
    "    }\n",
    "    response = requests.get(url, headers=headers)\n",
    "    return response.text"
   ]
  },
  {
   "cell_type": "code",
   "execution_count": 68,
   "id": "f7a5219b",
   "metadata": {},
   "outputs": [],
   "source": [
    "def get_metadata(html: bytes, url: str) -> dict:\n",
    "    metadata = extruct.extract(\n",
    "        html,\n",
    "        base_url=get_base_url(url),\n",
    "        syntaxes=['json-ld'],\n",
    "        uniform=True\n",
    "    )['json-ld']\n",
    "    if bool(metadata) and isinstance(metadata, list):\n",
    "        metadata = metadata[0]\n",
    "    return metadata"
   ]
  },
  {
   "cell_type": "code",
   "execution_count": 73,
   "id": "47a05a1e",
   "metadata": {},
   "outputs": [],
   "source": [
    "def scrape(url: str, pretty_print: bool=False) -> dict:\n",
    "    \"\"\"Parse structured data from a target page.\"\"\"\n",
    "    html = get_html(url)\n",
    "    metadata = get_metadata(html, url)\n",
    "    if pretty_print:\n",
    "        pprint(metadata, indent=2, width=150)\n",
    "    return metadata"
   ]
  },
  {
   "cell_type": "code",
   "execution_count": 74,
   "id": "713059af",
   "metadata": {},
   "outputs": [],
   "source": [
    "metadata = scrape(url)\n",
    "ba_metadata = scrape('https://www.bonappetit.com/recipe/chicken-tikka-masala')"
   ]
  },
  {
   "cell_type": "code",
   "execution_count": 77,
   "id": "343b430a",
   "metadata": {},
   "outputs": [
    {
     "data": {
      "text/plain": [
       "dict_keys(['@context', '@type', 'articleBody', 'alternativeHeadline', 'keywords', 'thumbnailUrl', 'publisher', 'isPartOf', 'isAccessibleForFree', 'author', 'aggregateRating', 'description', 'image', 'headline', 'name', 'recipeIngredient', 'recipeInstructions', 'recipeYield', 'url', 'dateModified', 'datePublished'])"
      ]
     },
     "execution_count": 77,
     "metadata": {},
     "output_type": "execute_result"
    }
   ],
   "source": [
    "ba_metadata.keys()"
   ]
  },
  {
   "cell_type": "code",
   "execution_count": 76,
   "id": "fa37eb52",
   "metadata": {},
   "outputs": [
    {
     "data": {
      "text/plain": [
       "dict_keys(['@context', '@graph'])"
      ]
     },
     "execution_count": 76,
     "metadata": {},
     "output_type": "execute_result"
    }
   ],
   "source": [
    "metadata.keys()"
   ]
  },
  {
   "cell_type": "code",
   "execution_count": 80,
   "id": "8a4ef81d",
   "metadata": {},
   "outputs": [
    {
     "data": {
      "text/plain": [
       "[{'@type': 'Organization',\n",
       "  '@id': 'https://cookieandkate.com/#organization',\n",
       "  'name': 'Cookie and Kate',\n",
       "  'url': 'https://cookieandkate.com/',\n",
       "  'sameAs': ['https://www.facebook.com/cookieandkate',\n",
       "   'https://instagram.com/cookieandkate',\n",
       "   'https://www.linkedin.com/in/kathryne-taylor-20012213/',\n",
       "   'https://www.youtube.com/user/cookieandkate/',\n",
       "   'https://www.pinterest.com/cookieandkate/',\n",
       "   'https://twitter.com/cookieandkate'],\n",
       "  'logo': {'@type': 'ImageObject',\n",
       "   '@id': 'https://cookieandkate.com/#logo',\n",
       "   'inLanguage': 'en-US',\n",
       "   'url': 'https://cookieandkate.com/images/2017/04/header-google.jpg',\n",
       "   'contentUrl': 'https://cookieandkate.com/images/2017/04/header-google.jpg',\n",
       "   'width': 782,\n",
       "   'height': 336,\n",
       "   'caption': 'Cookie and Kate'},\n",
       "  'image': {'@id': 'https://cookieandkate.com/#logo'}},\n",
       " {'@type': 'WebSite',\n",
       "  '@id': 'https://cookieandkate.com/#website',\n",
       "  'url': 'https://cookieandkate.com/',\n",
       "  'name': 'Cookie and Kate',\n",
       "  'description': 'Whole Foods and Vegetarian Recipe Blog',\n",
       "  'publisher': {'@id': 'https://cookieandkate.com/#organization'},\n",
       "  'potentialAction': [{'@type': 'SearchAction',\n",
       "    'target': {'@type': 'EntryPoint',\n",
       "     'urlTemplate': 'https://cookieandkate.com/?s={search_term_string}'},\n",
       "    'query-input': 'required name=search_term_string'}],\n",
       "  'inLanguage': 'en-US'},\n",
       " {'@type': 'ImageObject',\n",
       "  '@id': 'https://cookieandkate.com/best-tahini-sauce-recipe/#primaryimage',\n",
       "  'inLanguage': 'en-US',\n",
       "  'url': 'https://cookieandkate.com/images/2018/05/creamy-tahini-sauce-drizzle.jpg',\n",
       "  'contentUrl': 'https://cookieandkate.com/images/2018/05/creamy-tahini-sauce-drizzle.jpg',\n",
       "  'width': 1100,\n",
       "  'height': 1648,\n",
       "  'caption': 'creamy tahini sauce drizzle'},\n",
       " {'@type': 'WebPage',\n",
       "  '@id': 'https://cookieandkate.com/best-tahini-sauce-recipe/#webpage',\n",
       "  'url': 'https://cookieandkate.com/best-tahini-sauce-recipe/',\n",
       "  'name': 'Best Tahini Sauce Recipe - Cookie and Kate',\n",
       "  'isPartOf': {'@id': 'https://cookieandkate.com/#website'},\n",
       "  'primaryImageOfPage': {'@id': 'https://cookieandkate.com/best-tahini-sauce-recipe/#primaryimage'},\n",
       "  'datePublished': '2018-06-06T12:45:06+00:00',\n",
       "  'dateModified': '2020-05-22T17:54:09+00:00',\n",
       "  'description': \"Learn how to make ultra creamy tahini sauce! The best tahini sauce is ultra creamy, deliciously tangy and irresistible. This recipe is easy to make, too. You'll just need a whisk!\",\n",
       "  'breadcrumb': {'@id': 'https://cookieandkate.com/best-tahini-sauce-recipe/#breadcrumb'},\n",
       "  'inLanguage': 'en-US',\n",
       "  'potentialAction': [{'@type': 'ReadAction',\n",
       "    'target': ['https://cookieandkate.com/best-tahini-sauce-recipe/']}]},\n",
       " {'@type': 'BreadcrumbList',\n",
       "  '@id': 'https://cookieandkate.com/best-tahini-sauce-recipe/#breadcrumb',\n",
       "  'itemListElement': [{'@type': 'ListItem',\n",
       "    'position': 1,\n",
       "    'name': 'Best Tahini Sauce'}]},\n",
       " {'@type': 'Article',\n",
       "  '@id': 'https://cookieandkate.com/best-tahini-sauce-recipe/#article',\n",
       "  'isPartOf': {'@id': 'https://cookieandkate.com/best-tahini-sauce-recipe/#webpage'},\n",
       "  'author': {'@id': 'https://cookieandkate.com/#/schema/person/11cb2bc5be85f527eaefce98061b2dda'},\n",
       "  'headline': 'Best Tahini Sauce',\n",
       "  'datePublished': '2018-06-06T12:45:06+00:00',\n",
       "  'dateModified': '2020-05-22T17:54:09+00:00',\n",
       "  'wordCount': 649,\n",
       "  'commentCount': 261,\n",
       "  'publisher': {'@id': 'https://cookieandkate.com/#organization'},\n",
       "  'image': {'@id': 'https://cookieandkate.com/best-tahini-sauce-recipe/#primaryimage'},\n",
       "  'thumbnailUrl': 'https://cookieandkate.com/images/2018/05/creamy-tahini-sauce-drizzle.jpg',\n",
       "  'keywords': ['lemon', 'tahini'],\n",
       "  'articleSection': ['appetizers',\n",
       "   'condiments, dips &amp; sauces',\n",
       "   'dairy free',\n",
       "   'egg free',\n",
       "   'fall',\n",
       "   'gluten free',\n",
       "   'Lebanese',\n",
       "   'Mediterranean',\n",
       "   'nut free',\n",
       "   'recipes',\n",
       "   'snacks',\n",
       "   'soy free',\n",
       "   'spring',\n",
       "   'summer',\n",
       "   'tomato free',\n",
       "   'vegan',\n",
       "   'winter'],\n",
       "  'inLanguage': 'en-US',\n",
       "  'potentialAction': [{'@type': 'CommentAction',\n",
       "    'name': 'Comment',\n",
       "    'target': ['https://cookieandkate.com/best-tahini-sauce-recipe/#respond']}]},\n",
       " {'@type': 'Person',\n",
       "  '@id': 'https://cookieandkate.com/#/schema/person/11cb2bc5be85f527eaefce98061b2dda',\n",
       "  'name': 'Kate',\n",
       "  'description': \"Vegetable enthusiast. Dog lover. I'm probably making a big mess in my Kansas City kitchen right now. More about me »\",\n",
       "  'sameAs': ['https://cookieandkate.com']},\n",
       " {'@context': 'https://schema.org/',\n",
       "  '@type': 'Recipe',\n",
       "  'name': 'Best Tahini Sauce',\n",
       "  'description': \"Learn how to make ultra creamy tahini sauce! The best tahini sauce is ultra creamy, deliciously tangy and irresistible. This recipe is easy to make, too. You'll just need a whisk! Recipe yields 1 to 1 1/4 cup; double if desired.\",\n",
       "  'author': {'@type': 'Person', 'name': 'Cookie and Kate'},\n",
       "  'keywords': 'Tahini sauce',\n",
       "  'image': ['https://cookieandkate.com/images/2018/05/creamy-tahini-sauce-drizzle-225x225.jpg',\n",
       "   'https://cookieandkate.com/images/2018/05/creamy-tahini-sauce-drizzle-260x195.jpg',\n",
       "   'https://cookieandkate.com/images/2018/05/creamy-tahini-sauce-drizzle-320x180.jpg',\n",
       "   'https://cookieandkate.com/images/2018/05/creamy-tahini-sauce-drizzle.jpg'],\n",
       "  'url': 'https://cookieandkate.com/best-tahini-sauce-recipe/',\n",
       "  'recipeIngredient': ['4 medium-to-large cloves garlic, pressed or minced',\n",
       "   '1/4 cup lemon juice',\n",
       "   '1/2 cup tahini',\n",
       "   '1/2 teaspoon fine sea salt',\n",
       "   'Pinch of ground cumin',\n",
       "   '6 tablespoons ice water, more as needed'],\n",
       "  'recipeInstructions': [{'@type': 'HowToStep',\n",
       "    'text': 'In a medium bowl, combine the garlic and lemon juice. Let the mixture rest for 10 minutes, to give the garlic time to infuse the lemon juice with flavor.',\n",
       "    'url': 'https://cookieandkate.com/best-tahini-sauce-recipe/#instruction-step-1'},\n",
       "   {'@type': 'HowToStep',\n",
       "    'text': 'Pour the mixture through a fine-mesh sieve into another medium bowl. Press the garlic solids with a spatula to extract as much liquid as possible. Discard the garlic.',\n",
       "    'url': 'https://cookieandkate.com/best-tahini-sauce-recipe/#instruction-step-2'},\n",
       "   {'@type': 'HowToStep',\n",
       "    'text': 'Add the tahini, salt and cumin to the bowl. Whisk until the mixture is thoroughly blended.',\n",
       "    'url': 'https://cookieandkate.com/best-tahini-sauce-recipe/#instruction-step-3'},\n",
       "   {'@type': 'HowToStep',\n",
       "    'text': 'Add water 2 tablespoons at a time, whisking after each addition until smooth. (It may seize up, don&#8217;t worry.) After about 6 tablespoons, you will have a perfectly creamy and smooth, light-colored tahini sauce.',\n",
       "    'url': 'https://cookieandkate.com/best-tahini-sauce-recipe/#instruction-step-4'},\n",
       "   {'@type': 'HowToStep',\n",
       "    'text': 'If desired, thin with additional water for a more drizzly sauce. Adjust if necessary—if you&#8217;d like more tang, add more lemon, or for more overall flavor, add another pinch of salt. Your tahini sauce is ready to serve!',\n",
       "    'url': 'https://cookieandkate.com/best-tahini-sauce-recipe/#instruction-step-5'}],\n",
       "  'prepTime': 'PT20M',\n",
       "  'totalTime': 'PT20M',\n",
       "  'recipeYield': ['6', '6 servings'],\n",
       "  'recipeCategory': 'Sauce',\n",
       "  'cookingMethod': 'By hand',\n",
       "  'recipeCuisine': 'Middle Eastern',\n",
       "  'aggregateRating': {'@type': 'AggregateRating',\n",
       "   'reviewCount': '120',\n",
       "   'ratingValue': '4.9'},\n",
       "  'nutrition': {'servingSize': 'About 3 tablespoons',\n",
       "   'calories': '125',\n",
       "   'sugarContent': '0.4 g',\n",
       "   'sodiumContent': '210.2 mg',\n",
       "   'fatContent': '10.8 g',\n",
       "   'saturatedFatContent': '1.5 g',\n",
       "   'transFatContent': '0 g',\n",
       "   'carbohydrateContent': '5.6 g',\n",
       "   'fiberContent': '1.9 g',\n",
       "   'proteinContent': '3.6 g',\n",
       "   'cholesterolContent': '0 mg',\n",
       "   '@type': 'nutritionInformation'},\n",
       "  'video': {'@context': 'http://schema.org',\n",
       "   '@type': 'VideoObject',\n",
       "   'name': 'Best Tahini Sauce Recipe',\n",
       "   'description': 'Watch how to make ultra delicious tahini sauce in this short recipe video! With a few simple tricks and ingredients, you’ll make the best tahini sauce you’ve ever had.',\n",
       "   'contentUrl': 'https://content.jwplatform.com/videos/hqvNV4Av.mp4',\n",
       "   'thumbnailUrl': ['https://content.jwplatform.com/thumbs/hqvNV4Av-720.jpg'],\n",
       "   'uploadDate': '2020-05-22'},\n",
       "  'review': [{'@type': 'Review',\n",
       "    'reviewRating': {'@type': 'Rating', 'ratingValue': '5'},\n",
       "    'author': {'@type': 'Person', 'name': 'Zoe'},\n",
       "    'datePublished': '2020-08-03',\n",
       "    'reviewBody': 'This is an excellent sauce. It is so good that my 2 year old literally started eating it with a spoon...'},\n",
       "   {'@type': 'Review',\n",
       "    'reviewRating': {'@type': 'Rating', 'ratingValue': '5'},\n",
       "    'author': {'@type': 'Person', 'name': 'Nan'},\n",
       "    'datePublished': '2020-08-05',\n",
       "    'reviewBody': 'Excellent!  I used a food processor but otherwise made as directed. So good with falafal. It’s my go to now!'},\n",
       "   {'@type': 'Review',\n",
       "    'reviewRating': {'@type': 'Rating', 'ratingValue': '5'},\n",
       "    'author': {'@type': 'Person', 'name': 'Be'},\n",
       "    'datePublished': '2020-08-06',\n",
       "    'reviewBody': 'Yum really enjoyed this (making it and eating it). thank you!'},\n",
       "   {'@type': 'Review',\n",
       "    'reviewRating': {'@type': 'Rating', 'ratingValue': '3'},\n",
       "    'author': {'@type': 'Person', 'name': 'Kal'},\n",
       "    'datePublished': '2020-08-07',\n",
       "    'reviewBody': \"This was delicious... until I added the cumin. It made the dressing taste bland and took away it's bold flavor. I would give this recipe 5 stars without the cumin, though.\"},\n",
       "   {'@type': 'Review',\n",
       "    'reviewRating': {'@type': 'Rating', 'ratingValue': '5'},\n",
       "    'author': {'@type': 'Person', 'name': 'Andrea'},\n",
       "    'datePublished': '2020-08-15',\n",
       "    'reviewBody': 'Just made this for the roasted broccoli….it was so good.  Thank you so much! xo'},\n",
       "   {'@type': 'Review',\n",
       "    'reviewRating': {'@type': 'Rating', 'ratingValue': '5'},\n",
       "    'author': {'@type': 'Person', 'name': 'Philippa'},\n",
       "    'datePublished': '2020-08-23',\n",
       "    'reviewBody': 'This was delicious! I like many of your recipes this one and the lentil soup are absolutely delicious!'},\n",
       "   {'@type': 'Review',\n",
       "    'reviewRating': {'@type': 'Rating', 'ratingValue': '4'},\n",
       "    'author': {'@type': 'Person', 'name': 'Glen'},\n",
       "    'datePublished': '2020-08-26',\n",
       "    'reviewBody': 'Really good overall but too much lemon juice for me — it was really acidic.'},\n",
       "   {'@type': 'Review',\n",
       "    'reviewRating': {'@type': 'Rating', 'ratingValue': '5'},\n",
       "    'author': {'@type': 'Person', 'name': 'Kori'},\n",
       "    'datePublished': '2020-08-28',\n",
       "    'reviewBody': 'I love this sauce! I used garlic powder, &amp; it came together so quickly. We first enjoyed it drizzled over chickpea-stuffed baked sweet potatoes, &amp; then I had it spread on an egg sandwich with two over easy eggs, EBTB seasoning, spinach, &amp; avocado. Thank you for an amazing go-to recipe!'},\n",
       "   {'@type': 'Review',\n",
       "    'reviewRating': {'@type': 'Rating', 'ratingValue': '5'},\n",
       "    'author': {'@type': 'Person', 'name': 'Ravi'},\n",
       "    'datePublished': '2020-09-07',\n",
       "    'reviewBody': 'This came out delicious! As a rookie cook, this made me super happy!'},\n",
       "   {'@type': 'Review',\n",
       "    'reviewRating': {'@type': 'Rating', 'ratingValue': '4'},\n",
       "    'author': {'@type': 'Person', 'name': 'Kathy Barr'},\n",
       "    'datePublished': '2020-09-08',\n",
       "    'reviewBody': 'Love the recipe. However music is annoying in video :-('},\n",
       "   {'@type': 'Review',\n",
       "    'reviewRating': {'@type': 'Rating', 'ratingValue': '5'},\n",
       "    'author': {'@type': 'Person', 'name': 'Mia'},\n",
       "    'datePublished': '2020-09-13',\n",
       "    'reviewBody': 'Outstanding tahini sauce!  I’ve been making it for more than 40 years- never quite smooth enough..... the strained garlicky lemon juice is truly a game changer! Made it in the food processor and added the oil from the tahini to thin as well.... ice water is a brilliant ingredient also.    Just made a quadruple recipe to share with our daughter- such a great sauce!   Thanks '},\n",
       "   {'@type': 'Review',\n",
       "    'reviewRating': {'@type': 'Rating', 'ratingValue': '5'},\n",
       "    'author': {'@type': 'Person', 'name': 'Olivia'},\n",
       "    'datePublished': '2020-10-11',\n",
       "    'reviewBody': 'I don’t use the garlic because my stomach is sensitive to it, but it’s still delicious without it!! I like to dip roasted sweet potatoes in this and make it a bit thinner to use as a salad dressing!! Thanks for sharing :)'},\n",
       "   {'@type': 'Review',\n",
       "    'reviewRating': {'@type': 'Rating', 'ratingValue': '5'},\n",
       "    'author': {'@type': 'Person', 'name': 'CJ'},\n",
       "    'datePublished': '2020-10-12',\n",
       "    'reviewBody': 'Awesome! Cooked the garlic and kept it in the final sauce, sooooooo delicious! Thanks for this recipe!'},\n",
       "   {'@type': 'Review',\n",
       "    'reviewRating': {'@type': 'Rating', 'ratingValue': '5'},\n",
       "    'author': {'@type': 'Person', 'name': 'Bailey'},\n",
       "    'datePublished': '2020-10-21',\n",
       "    'reviewBody': 'Love this sauce! I mad with to go with the mujadara recipe and it was perfect'},\n",
       "   {'@type': 'Review',\n",
       "    'reviewRating': {'@type': 'Rating', 'ratingValue': '5'},\n",
       "    'author': {'@type': 'Person', 'name': 'Lindsay'},\n",
       "    'datePublished': '2020-11-13',\n",
       "    'reviewBody': 'So delicious &amp; easy to make! I omitted the cumin. I could just eat it on its own with a spoon.'},\n",
       "   {'@type': 'Review',\n",
       "    'reviewRating': {'@type': 'Rating', 'ratingValue': '4'},\n",
       "    'author': {'@type': 'Person', 'name': 'Chiller'},\n",
       "    'datePublished': '2020-11-19',\n",
       "    'reviewBody': \"It's truly the best: easily made and so fresh! I used Joyva Brand tahini. A great olive-bread dip, but also delish on steamed vegetables. Thanks for the recipe.\"},\n",
       "   {'@type': 'Review',\n",
       "    'reviewRating': {'@type': 'Rating', 'ratingValue': '5'},\n",
       "    'author': {'@type': 'Person', 'name': 'Karen'},\n",
       "    'datePublished': '2020-12-07',\n",
       "    'reviewBody': 'Delish and super simple!  Good on pretty much everything....  Thanks!'},\n",
       "   {'@type': 'Review',\n",
       "    'reviewRating': {'@type': 'Rating', 'ratingValue': '5'},\n",
       "    'author': {'@type': 'Person', 'name': 'Lynn Hayes'},\n",
       "    'datePublished': '2020-12-16',\n",
       "    'reviewBody': \"Hi Kate, your recipes are always so excellent, thanks for this and for the tip about soaking the garlic in the lemon juice.  I wanted to let you know about this organic tahini that's made in NYC - it's fantastic.  www.seedandmill.com. They also have incredible halva. :) I was using the Soom but this is even better. \\r\\nLynn\"},\n",
       "   {'@type': 'Review',\n",
       "    'reviewRating': {'@type': 'Rating', 'ratingValue': '5'},\n",
       "    'author': {'@type': 'Person', 'name': 'Jenn'},\n",
       "    'datePublished': '2020-12-30',\n",
       "    'reviewBody': 'A great sauce, exactly what I hoped for my falafel.  Infusing the lemon juice with garlic was creative and gave the anticipated result.  Thank you!'},\n",
       "   {'@type': 'Review',\n",
       "    'reviewRating': {'@type': 'Rating', 'ratingValue': '2'},\n",
       "    'author': {'@type': 'Person', 'name': 'Jackson'},\n",
       "    'datePublished': '2021-01-18',\n",
       "    'reviewBody': 'Way to much garlic for only half a cup of tahini. Followed the instruction and allowed it to soak in lemon juice, maybe I let it soak a few minutes too long but god damn it made it extremely bitter. Added a ton more tahini but still can’t shake the extremely garlicky after taste. Other that that it’s great. Has a great flavor initially but then just gets way overpowered with garlic.'}],\n",
       "  'datePublished': '2018-06-06',\n",
       "  '@id': 'https://cookieandkate.com/best-tahini-sauce-recipe/#recipe',\n",
       "  'isPartOf': {'@id': 'https://cookieandkate.com/best-tahini-sauce-recipe/#article'},\n",
       "  'mainEntityOfPage': 'https://cookieandkate.com/best-tahini-sauce-recipe/#webpage'}]"
      ]
     },
     "execution_count": 80,
     "metadata": {},
     "output_type": "execute_result"
    }
   ],
   "source": [
    "metadata['@graph']"
   ]
  },
  {
   "cell_type": "code",
   "execution_count": null,
   "id": "edd38c26",
   "metadata": {},
   "outputs": [],
   "source": [
    "tags = []"
   ]
  },
  {
   "cell_type": "code",
   "execution_count": 54,
   "id": "5b2f6950",
   "metadata": {},
   "outputs": [
    {
     "data": {
      "text/plain": [
       "'6 servings'"
      ]
     },
     "execution_count": 54,
     "metadata": {},
     "output_type": "execute_result"
    }
   ],
   "source": [
    "metadata['recipeYield']"
   ]
  },
  {
   "cell_type": "code",
   "execution_count": 30,
   "id": "c024b3b7",
   "metadata": {},
   "outputs": [
    {
     "data": {
      "text/plain": [
       "['6 garlic cloves, finely grated',\n",
       " '4 tsp. finely grated peeled ginger',\n",
       " '4 tsp. ground turmeric',\n",
       " '2 tsp. garam masala',\n",
       " '2 tsp. ground coriander',\n",
       " '2 tsp. ground cumin',\n",
       " '1½ cups whole-milk yogurt (not Greek)',\n",
       " '1 Tbsp. kosher salt',\n",
       " '2 lb. skinless, boneless chicken breasts, halved lengthwise',\n",
       " '3 Tbsp. ghee (clarified butter) or vegetable oil',\n",
       " '1 small onion, thinly sliced',\n",
       " '¼ cup tomato paste',\n",
       " '6 cardamom pods, crushed',\n",
       " '2 dried chiles de árbol or ½ tsp. crushed red pepper flakes',\n",
       " '1 28-oz. can whole peeled tomatoes, like San Marzano',\n",
       " '2 cups heavy cream',\n",
       " '¾ cup chopped cilantro, plus sprigs for garnish',\n",
       " 'Steamed basmati rice (for serving)']"
      ]
     },
     "execution_count": 30,
     "metadata": {},
     "output_type": "execute_result"
    }
   ],
   "source": [
    "metadata['recipeIngredient']"
   ]
  },
  {
   "cell_type": "code",
   "execution_count": 32,
   "id": "b1fa067e",
   "metadata": {},
   "outputs": [
    {
     "data": {
      "text/plain": [
       "[{'@type': 'HowToStep',\n",
       "  'text': 'Combine garlic, ginger, turmeric, garam masala, coriander, and cumin in a small bowl. Whisk yogurt, salt, and half of spice mixture in a medium bowl; add chicken and turn to coat. Cover and chill 4-6 hours. Cover and chill remaining spice mixture.'},\n",
       " {'@type': 'HowToStep',\n",
       "  'text': 'Heat ghee in a large heavy pot over medium heat. Add onion, tomato paste, cardamom, and chiles and cook, stirring often, until tomato paste has darkened and onion is soft, about 5 minutes. Add remaining half of spice mixture and cook, stirring often, until bottom of pot begins to brown, about 4 minutes.'},\n",
       " {'@type': 'HowToStep',\n",
       "  'text': 'Add tomatoes with juices, crushing them with your hands as you add them. Bring to a boil, reduce heat, and simmer, stirring often and scraping up browned bits from bottom of pot, until sauce thickens, 8-10 minutes.'},\n",
       " {'@type': 'HowToStep',\n",
       "  'text': 'Add cream and chopped cilantro. Simmer, stirring occasionally, until sauce thickens, 30-40 minutes.'},\n",
       " {'@type': 'HowToStep',\n",
       "  'text': 'Meanwhile, preheat broiler. Line a rimmed baking sheet with foil and set a wire rack inside sheet. Arrange chicken on rack in a single layer. Broil until chicken starts to blacken in spots (it will not be cooked through), about 10 minutes.'},\n",
       " {'@type': 'HowToStep',\n",
       "  'text': 'Cut chicken into bite-size pieces, add to sauce, and simmer, stirring occasionally, until chicken is cooked through, 8-10 minutes. Serve with rice and cilantro sprigs.\\nDo Ahead: Chicken can be made 2 days ahead. Cover; chill. Reheat before serving.'},\n",
       " {'@type': 'HowToStep', 'text': ''}]"
      ]
     },
     "execution_count": 32,
     "metadata": {},
     "output_type": "execute_result"
    }
   ],
   "source": [
    "metadata['recipeInstructions']"
   ]
  },
  {
   "cell_type": "code",
   "execution_count": 34,
   "id": "553ea742",
   "metadata": {},
   "outputs": [
    {
     "data": {
      "text/plain": [
       "'For this chicken tikka masala recipe, the yogurt helps tenderize the chicken; the garlic, ginger, and spices in the marinade infuse it with lots of flavor.'"
      ]
     },
     "execution_count": 34,
     "metadata": {},
     "output_type": "execute_result"
    }
   ],
   "source": [
    "metadata['description']"
   ]
  },
  {
   "cell_type": "code",
   "execution_count": 38,
   "id": "99bf3453",
   "metadata": {},
   "outputs": [
    {
     "data": {
      "text/plain": [
       "['https://assets.bonappetit.com/photos/5b69f163d3d14670539a2174/5:7/w_1900,h_2660,c_limit/ba-tikka-masala-2.jpg',\n",
       " 'https://assets.bonappetit.com/photos/5b69f163d3d14670539a2174/6:9/w_1776,h_2664,c_limit/ba-tikka-masala-2.jpg',\n",
       " 'https://assets.bonappetit.com/photos/5b69f163d3d14670539a2174/5:4/w_3330,h_2664,c_limit/ba-tikka-masala-2.jpg',\n",
       " 'https://assets.bonappetit.com/photos/5b69f163d3d14670539a2174/8:5/w_4264,h_2665,c_limit/ba-tikka-masala-2.jpg',\n",
       " 'https://assets.bonappetit.com/photos/5b69f163d3d14670539a2174/3:2/w_3999,h_2666,c_limit/ba-tikka-masala-2.jpg',\n",
       " 'https://assets.bonappetit.com/photos/5b69f163d3d14670539a2174/16:9/w_4736,h_2664,c_limit/ba-tikka-masala-2.jpg',\n",
       " 'https://assets.bonappetit.com/photos/5b69f163d3d14670539a2174/4:3/w_3552,h_2664,c_limit/ba-tikka-masala-2.jpg',\n",
       " 'https://assets.bonappetit.com/photos/5b69f163d3d14670539a2174/1:1/w_2666,h_2666,c_limit/ba-tikka-masala-2.jpg']"
      ]
     },
     "execution_count": 38,
     "metadata": {},
     "output_type": "execute_result"
    }
   ],
   "source": [
    "metadata['image']"
   ]
  },
  {
   "cell_type": "code",
   "execution_count": 39,
   "id": "b29d7ae5",
   "metadata": {},
   "outputs": [
    {
     "data": {
      "text/plain": [
       "[{'@type': 'Person',\n",
       "  'name': 'Alison Roman',\n",
       "  'sameAs': 'https://www.bonappetit.com/contributor/alison-roman'}]"
      ]
     },
     "execution_count": 39,
     "metadata": {},
     "output_type": "execute_result"
    }
   ],
   "source": [
    "metadata['author']"
   ]
  },
  {
   "cell_type": "code",
   "execution_count": null,
   "id": "0cf8162b",
   "metadata": {},
   "outputs": [],
   "source": []
  }
 ],
 "metadata": {
  "kernelspec": {
   "display_name": "Python 3",
   "language": "python",
   "name": "python3"
  },
  "language_info": {
   "codemirror_mode": {
    "name": "ipython",
    "version": 3
   },
   "file_extension": ".py",
   "mimetype": "text/x-python",
   "name": "python",
   "nbconvert_exporter": "python",
   "pygments_lexer": "ipython3",
   "version": "3.8.8"
  }
 },
 "nbformat": 4,
 "nbformat_minor": 5
}
