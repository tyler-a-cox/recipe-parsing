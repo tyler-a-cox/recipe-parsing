{
 "cells": [
  {
   "cell_type": "code",
   "execution_count": 65,
   "id": "70dd178b",
   "metadata": {},
   "outputs": [],
   "source": [
    "import extruct\n",
    "import requests\n",
    "from pprint import pprint\n",
    "from bs4 import BeautifulSoup\n",
    "from w3lib.html import get_base_url"
   ]
  },
  {
   "cell_type": "code",
   "execution_count": 66,
   "id": "7ff58e16",
   "metadata": {},
   "outputs": [],
   "source": [
    "url = 'https://cookieandkate.com/best-tahini-sauce-recipe/'"
   ]
  },
  {
   "cell_type": "code",
   "execution_count": 67,
   "id": "044ab597",
   "metadata": {},
   "outputs": [],
   "source": [
    "def get_html(url: str, headers: dict={}) -> bytes:\n",
    "    headers = {\n",
    "        'Access-Control-Allow-Origin': '*',\n",
    "        'Access-Control-Allow-Methods': 'GET',\n",
    "        'Access-Control-Allow-Headers': 'Content-Type',\n",
    "        'Access-Control-Max-Age': '3600',\n",
    "        'User-Agent': 'Mozilla/5.0 (X11; Ubuntu; Linux x86_64; rv:52.0) Gecko/20100101 Firefox/52.0'\n",
    "    }\n",
    "    response = requests.get(url, headers=headers)\n",
    "    return response.text"
   ]
  },
  {
   "cell_type": "code",
   "execution_count": 68,
   "id": "b73af8a4",
   "metadata": {},
   "outputs": [],
   "source": [
    "def get_metadata(html: bytes, url: str) -> dict:\n",
    "    metadata = extruct.extract(\n",
    "        html,\n",
    "        base_url=get_base_url(url),\n",
    "        syntaxes=['json-ld'],\n",
    "        uniform=True\n",
    "    )['json-ld']\n",
    "    if bool(metadata) and isinstance(metadata, list):\n",
    "        metadata = metadata[0]\n",
    "    return metadata"
   ]
  },
  {
   "cell_type": "code",
   "execution_count": 73,
   "id": "4c110e7d",
   "metadata": {},
   "outputs": [],
   "source": [
    "def scrape(url: str, pretty_print: bool=False) -> dict:\n",
    "    \"\"\"Parse structured data from a target page.\"\"\"\n",
    "    html = get_html(url)\n",
    "    metadata = get_metadata(html, url)\n",
    "    if pretty_print:\n",
    "        pprint(metadata, indent=2, width=150)\n",
    "    return metadata"
   ]
  },
  {
   "cell_type": "code",
   "execution_count": 74,
   "id": "b503a760",
   "metadata": {},
   "outputs": [],
   "source": [
    "metadata = scrape(url)\n",
    "ba_metadata = scrape('https://www.bonappetit.com/recipe/chicken-tikka-masala')"
   ]
  },
  {
   "cell_type": "code",
   "execution_count": 77,
   "id": "9149490d",
   "metadata": {},
   "outputs": [
    {
     "data": {
      "text/plain": [
       "dict_keys(['@context', '@type', 'articleBody', 'alternativeHeadline', 'keywords', 'thumbnailUrl', 'publisher', 'isPartOf', 'isAccessibleForFree', 'author', 'aggregateRating', 'description', 'image', 'headline', 'name', 'recipeIngredient', 'recipeInstructions', 'recipeYield', 'url', 'dateModified', 'datePublished'])"
      ]
     },
     "execution_count": 77,
     "metadata": {},
     "output_type": "execute_result"
    }
   ],
   "source": [
    "ba_metadata.keys()"
   ]
  },
  {
   "cell_type": "code",
   "execution_count": 76,
   "id": "a11b25d1",
   "metadata": {},
   "outputs": [
    {
     "data": {
      "text/plain": [
       "dict_keys(['@context', '@graph'])"
      ]
     },
     "execution_count": 76,
     "metadata": {},
     "output_type": "execute_result"
    }
   ],
   "source": [
    "metadata.keys()"
   ]
  },
  {
   "cell_type": "code",
   "execution_count": 81,
   "id": "e4c0d399",
   "metadata": {},
   "outputs": [
    {
     "data": {
      "text/plain": [
       "{'@type': 'Organization',\n",
       " '@id': 'https://cookieandkate.com/#organization',\n",
       " 'name': 'Cookie and Kate',\n",
       " 'url': 'https://cookieandkate.com/',\n",
       " 'sameAs': ['https://www.facebook.com/cookieandkate',\n",
       "  'https://instagram.com/cookieandkate',\n",
       "  'https://www.linkedin.com/in/kathryne-taylor-20012213/',\n",
       "  'https://www.youtube.com/user/cookieandkate/',\n",
       "  'https://www.pinterest.com/cookieandkate/',\n",
       "  'https://twitter.com/cookieandkate'],\n",
       " 'logo': {'@type': 'ImageObject',\n",
       "  '@id': 'https://cookieandkate.com/#logo',\n",
       "  'inLanguage': 'en-US',\n",
       "  'url': 'https://cookieandkate.com/images/2017/04/header-google.jpg',\n",
       "  'contentUrl': 'https://cookieandkate.com/images/2017/04/header-google.jpg',\n",
       "  'width': 782,\n",
       "  'height': 336,\n",
       "  'caption': 'Cookie and Kate'},\n",
       " 'image': {'@id': 'https://cookieandkate.com/#logo'}}"
      ]
     },
     "execution_count": 81,
     "metadata": {},
     "output_type": "execute_result"
    }
   ],
   "source": [
    "metadata['@graph'][0]"
   ]
  },
  {
   "cell_type": "code",
   "execution_count": 82,
   "id": "67aaae60",
   "metadata": {},
   "outputs": [
    {
     "data": {
      "text/plain": [
       "{'@type': 'WebSite',\n",
       " '@id': 'https://cookieandkate.com/#website',\n",
       " 'url': 'https://cookieandkate.com/',\n",
       " 'name': 'Cookie and Kate',\n",
       " 'description': 'Whole Foods and Vegetarian Recipe Blog',\n",
       " 'publisher': {'@id': 'https://cookieandkate.com/#organization'},\n",
       " 'potentialAction': [{'@type': 'SearchAction',\n",
       "   'target': {'@type': 'EntryPoint',\n",
       "    'urlTemplate': 'https://cookieandkate.com/?s={search_term_string}'},\n",
       "   'query-input': 'required name=search_term_string'}],\n",
       " 'inLanguage': 'en-US'}"
      ]
     },
     "execution_count": 82,
     "metadata": {},
     "output_type": "execute_result"
    }
   ],
   "source": [
    "metadata['@graph'][1]"
   ]
  },
  {
   "cell_type": "code",
   "execution_count": 84,
   "id": "61d9e48b",
   "metadata": {},
   "outputs": [
    {
     "data": {
      "text/plain": [
       "{'@type': 'ImageObject',\n",
       " '@id': 'https://cookieandkate.com/best-tahini-sauce-recipe/#primaryimage',\n",
       " 'inLanguage': 'en-US',\n",
       " 'url': 'https://cookieandkate.com/images/2018/05/creamy-tahini-sauce-drizzle.jpg',\n",
       " 'contentUrl': 'https://cookieandkate.com/images/2018/05/creamy-tahini-sauce-drizzle.jpg',\n",
       " 'width': 1100,\n",
       " 'height': 1648,\n",
       " 'caption': 'creamy tahini sauce drizzle'}"
      ]
     },
     "execution_count": 84,
     "metadata": {},
     "output_type": "execute_result"
    }
   ],
   "source": [
    "metadata['@graph'][2]"
   ]
  },
  {
   "cell_type": "code",
   "execution_count": 85,
   "id": "dfc0572e",
   "metadata": {},
   "outputs": [
    {
     "data": {
      "text/plain": [
       "{'@type': 'WebPage',\n",
       " '@id': 'https://cookieandkate.com/best-tahini-sauce-recipe/#webpage',\n",
       " 'url': 'https://cookieandkate.com/best-tahini-sauce-recipe/',\n",
       " 'name': 'Best Tahini Sauce Recipe - Cookie and Kate',\n",
       " 'isPartOf': {'@id': 'https://cookieandkate.com/#website'},\n",
       " 'primaryImageOfPage': {'@id': 'https://cookieandkate.com/best-tahini-sauce-recipe/#primaryimage'},\n",
       " 'datePublished': '2018-06-06T12:45:06+00:00',\n",
       " 'dateModified': '2020-05-22T17:54:09+00:00',\n",
       " 'description': \"Learn how to make ultra creamy tahini sauce! The best tahini sauce is ultra creamy, deliciously tangy and irresistible. This recipe is easy to make, too. You'll just need a whisk!\",\n",
       " 'breadcrumb': {'@id': 'https://cookieandkate.com/best-tahini-sauce-recipe/#breadcrumb'},\n",
       " 'inLanguage': 'en-US',\n",
       " 'potentialAction': [{'@type': 'ReadAction',\n",
       "   'target': ['https://cookieandkate.com/best-tahini-sauce-recipe/']}]}"
      ]
     },
     "execution_count": 85,
     "metadata": {},
     "output_type": "execute_result"
    }
   ],
   "source": [
    "metadata['@graph'][3]"
   ]
  },
  {
   "cell_type": "code",
   "execution_count": 54,
   "id": "1d9e62ec",
   "metadata": {},
   "outputs": [
    {
     "data": {
      "text/plain": [
       "'6 servings'"
      ]
     },
     "execution_count": 54,
     "metadata": {},
     "output_type": "execute_result"
    }
   ],
   "source": [
    "metadata['recipeYield']"
   ]
  },
  {
   "cell_type": "code",
   "execution_count": 30,
   "id": "2c95bc3a",
   "metadata": {},
   "outputs": [
    {
     "data": {
      "text/plain": [
       "['6 garlic cloves, finely grated',\n",
       " '4 tsp. finely grated peeled ginger',\n",
       " '4 tsp. ground turmeric',\n",
       " '2 tsp. garam masala',\n",
       " '2 tsp. ground coriander',\n",
       " '2 tsp. ground cumin',\n",
       " '1½ cups whole-milk yogurt (not Greek)',\n",
       " '1 Tbsp. kosher salt',\n",
       " '2 lb. skinless, boneless chicken breasts, halved lengthwise',\n",
       " '3 Tbsp. ghee (clarified butter) or vegetable oil',\n",
       " '1 small onion, thinly sliced',\n",
       " '¼ cup tomato paste',\n",
       " '6 cardamom pods, crushed',\n",
       " '2 dried chiles de árbol or ½ tsp. crushed red pepper flakes',\n",
       " '1 28-oz. can whole peeled tomatoes, like San Marzano',\n",
       " '2 cups heavy cream',\n",
       " '¾ cup chopped cilantro, plus sprigs for garnish',\n",
       " 'Steamed basmati rice (for serving)']"
      ]
     },
     "execution_count": 30,
     "metadata": {},
     "output_type": "execute_result"
    }
   ],
   "source": [
    "metadata['recipeIngredient']"
   ]
  },
  {
   "cell_type": "code",
   "execution_count": 32,
   "id": "d7ccc18e",
   "metadata": {},
   "outputs": [
    {
     "data": {
      "text/plain": [
       "[{'@type': 'HowToStep',\n",
       "  'text': 'Combine garlic, ginger, turmeric, garam masala, coriander, and cumin in a small bowl. Whisk yogurt, salt, and half of spice mixture in a medium bowl; add chicken and turn to coat. Cover and chill 4-6 hours. Cover and chill remaining spice mixture.'},\n",
       " {'@type': 'HowToStep',\n",
       "  'text': 'Heat ghee in a large heavy pot over medium heat. Add onion, tomato paste, cardamom, and chiles and cook, stirring often, until tomato paste has darkened and onion is soft, about 5 minutes. Add remaining half of spice mixture and cook, stirring often, until bottom of pot begins to brown, about 4 minutes.'},\n",
       " {'@type': 'HowToStep',\n",
       "  'text': 'Add tomatoes with juices, crushing them with your hands as you add them. Bring to a boil, reduce heat, and simmer, stirring often and scraping up browned bits from bottom of pot, until sauce thickens, 8-10 minutes.'},\n",
       " {'@type': 'HowToStep',\n",
       "  'text': 'Add cream and chopped cilantro. Simmer, stirring occasionally, until sauce thickens, 30-40 minutes.'},\n",
       " {'@type': 'HowToStep',\n",
       "  'text': 'Meanwhile, preheat broiler. Line a rimmed baking sheet with foil and set a wire rack inside sheet. Arrange chicken on rack in a single layer. Broil until chicken starts to blacken in spots (it will not be cooked through), about 10 minutes.'},\n",
       " {'@type': 'HowToStep',\n",
       "  'text': 'Cut chicken into bite-size pieces, add to sauce, and simmer, stirring occasionally, until chicken is cooked through, 8-10 minutes. Serve with rice and cilantro sprigs.\\nDo Ahead: Chicken can be made 2 days ahead. Cover; chill. Reheat before serving.'},\n",
       " {'@type': 'HowToStep', 'text': ''}]"
      ]
     },
     "execution_count": 32,
     "metadata": {},
     "output_type": "execute_result"
    }
   ],
   "source": [
    "metadata['recipeInstructions']"
   ]
  },
  {
   "cell_type": "code",
   "execution_count": 34,
   "id": "3a6f69e4",
   "metadata": {},
   "outputs": [
    {
     "data": {
      "text/plain": [
       "'For this chicken tikka masala recipe, the yogurt helps tenderize the chicken; the garlic, ginger, and spices in the marinade infuse it with lots of flavor.'"
      ]
     },
     "execution_count": 34,
     "metadata": {},
     "output_type": "execute_result"
    }
   ],
   "source": [
    "metadata['description']"
   ]
  },
  {
   "cell_type": "code",
   "execution_count": 38,
   "id": "811fd60c",
   "metadata": {},
   "outputs": [
    {
     "data": {
      "text/plain": [
       "['https://assets.bonappetit.com/photos/5b69f163d3d14670539a2174/5:7/w_1900,h_2660,c_limit/ba-tikka-masala-2.jpg',\n",
       " 'https://assets.bonappetit.com/photos/5b69f163d3d14670539a2174/6:9/w_1776,h_2664,c_limit/ba-tikka-masala-2.jpg',\n",
       " 'https://assets.bonappetit.com/photos/5b69f163d3d14670539a2174/5:4/w_3330,h_2664,c_limit/ba-tikka-masala-2.jpg',\n",
       " 'https://assets.bonappetit.com/photos/5b69f163d3d14670539a2174/8:5/w_4264,h_2665,c_limit/ba-tikka-masala-2.jpg',\n",
       " 'https://assets.bonappetit.com/photos/5b69f163d3d14670539a2174/3:2/w_3999,h_2666,c_limit/ba-tikka-masala-2.jpg',\n",
       " 'https://assets.bonappetit.com/photos/5b69f163d3d14670539a2174/16:9/w_4736,h_2664,c_limit/ba-tikka-masala-2.jpg',\n",
       " 'https://assets.bonappetit.com/photos/5b69f163d3d14670539a2174/4:3/w_3552,h_2664,c_limit/ba-tikka-masala-2.jpg',\n",
       " 'https://assets.bonappetit.com/photos/5b69f163d3d14670539a2174/1:1/w_2666,h_2666,c_limit/ba-tikka-masala-2.jpg']"
      ]
     },
     "execution_count": 38,
     "metadata": {},
     "output_type": "execute_result"
    }
   ],
   "source": [
    "metadata['image']"
   ]
  },
  {
   "cell_type": "code",
   "execution_count": 39,
   "id": "85af4843",
   "metadata": {},
   "outputs": [
    {
     "data": {
      "text/plain": [
       "[{'@type': 'Person',\n",
       "  'name': 'Alison Roman',\n",
       "  'sameAs': 'https://www.bonappetit.com/contributor/alison-roman'}]"
      ]
     },
     "execution_count": 39,
     "metadata": {},
     "output_type": "execute_result"
    }
   ],
   "source": [
    "metadata['author']"
   ]
  },
  {
   "cell_type": "code",
   "execution_count": null,
   "id": "e59a4432",
   "metadata": {},
   "outputs": [],
   "source": []
  }
 ],
 "metadata": {
  "kernelspec": {
   "display_name": "Python 3",
   "language": "python",
   "name": "python3"
  },
  "language_info": {
   "codemirror_mode": {
    "name": "ipython",
    "version": 3
   },
   "file_extension": ".py",
   "mimetype": "text/x-python",
   "name": "python",
   "nbconvert_exporter": "python",
   "pygments_lexer": "ipython3",
   "version": "3.8.8"
  }
 },
 "nbformat": 4,
 "nbformat_minor": 5
}
