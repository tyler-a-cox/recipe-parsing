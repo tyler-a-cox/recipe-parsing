{
 "cells": [
  {
   "cell_type": "code",
   "execution_count": 20,
   "id": "bd01d000",
   "metadata": {},
   "outputs": [],
   "source": [
    "import extruct\n",
    "import requests\n",
    "from pprint import pprint\n",
    "from bs4 import BeautifulSoup\n",
    "from w3lib.html import get_base_url\n",
    "from recipe_scrapers import scrape_me"
   ]
  },
  {
   "cell_type": "code",
   "execution_count": 2,
   "id": "4952252f",
   "metadata": {},
   "outputs": [],
   "source": [
    "urls = ['https://cookieandkate.com/best-tahini-sauce-recipe/',\n",
    "        'https://www.bonappetit.com/recipe/chicken-tikka-masala',\n",
    "        'https://www.delish.com/cooking/recipe-ideas/recipes/a46330/skillet-sicilian-chicken-recipe/'\n",
    "       ]"
   ]
  },
  {
   "cell_type": "code",
   "execution_count": 3,
   "id": "ad9682de",
   "metadata": {},
   "outputs": [],
   "source": [
    "def get_html(url: str, headers: dict={}) -> bytes:\n",
    "    headers = {\n",
    "        'Access-Control-Allow-Origin': '*',\n",
    "        'Access-Control-Allow-Methods': 'GET',\n",
    "        'Access-Control-Allow-Headers': 'Content-Type',\n",
    "        'Access-Control-Max-Age': '3600',\n",
    "        'User-Agent': 'Mozilla/5.0 (X11; Ubuntu; Linux x86_64; rv:52.0) Gecko/20100101 Firefox/52.0'\n",
    "    }\n",
    "    response = requests.get(url, headers=headers)\n",
    "    return response.text"
   ]
  },
  {
   "cell_type": "code",
   "execution_count": 4,
   "id": "9567a716",
   "metadata": {},
   "outputs": [],
   "source": [
    "def get_metadata(html: bytes, url: str) -> dict:\n",
    "    metadata = extruct.extract(\n",
    "        html,\n",
    "        base_url=get_base_url(url),\n",
    "        syntaxes=['json-ld'],\n",
    "        uniform=True\n",
    "    )['json-ld']\n",
    "    if bool(metadata) and isinstance(metadata, list):\n",
    "        metadata = metadata[0]\n",
    "    return metadata"
   ]
  },
  {
   "cell_type": "code",
   "execution_count": 5,
   "id": "5ab89117",
   "metadata": {},
   "outputs": [],
   "source": [
    "def scrape(url: str, pretty_print: bool=False) -> dict:\n",
    "    \"\"\"Parse structured data from a target page.\"\"\"\n",
    "    html = get_html(url)\n",
    "    metadata = get_metadata(html, url)\n",
    "    if pretty_print:\n",
    "        pprint(metadata, indent=2, width=150)\n",
    "    return metadata"
   ]
  },
  {
   "cell_type": "code",
   "execution_count": 7,
   "id": "01d881d9",
   "metadata": {},
   "outputs": [],
   "source": [
    "metadata = [scrape(url) for url in urls]"
   ]
  },
  {
   "cell_type": "code",
   "execution_count": 11,
   "id": "2dd68175",
   "metadata": {},
   "outputs": [
    {
     "data": {
      "text/plain": [
       "dict_keys(['@context', '@graph'])"
      ]
     },
     "execution_count": 11,
     "metadata": {},
     "output_type": "execute_result"
    }
   ],
   "source": [
    "metadata[0].keys()"
   ]
  },
  {
   "cell_type": "code",
   "execution_count": 12,
   "id": "ac40cea5",
   "metadata": {},
   "outputs": [
    {
     "data": {
      "text/plain": [
       "dict_keys(['@context', '@type', 'articleBody', 'alternativeHeadline', 'keywords', 'thumbnailUrl', 'publisher', 'isPartOf', 'isAccessibleForFree', 'author', 'aggregateRating', 'description', 'image', 'headline', 'name', 'recipeIngredient', 'recipeInstructions', 'recipeYield', 'url', 'dateModified', 'datePublished'])"
      ]
     },
     "execution_count": 12,
     "metadata": {},
     "output_type": "execute_result"
    }
   ],
   "source": [
    "metadata[1].keys()"
   ]
  },
  {
   "cell_type": "code",
   "execution_count": 13,
   "id": "7ba94834",
   "metadata": {},
   "outputs": [
    {
     "data": {
      "text/plain": [
       "dict_keys(['@graph', '@context', 'url', 'publisher', '@type', 'author', 'datePublished', 'headline', 'image', 'mainEntityOfPage', 'thumbnailUrl', 'dateModified', 'isAccessibleForFree', 'hasPart', 'name', 'prepTime', 'cookTime', 'totalTime', 'recipeIngredient', 'recipeInstructions', 'video', 'recipeCuisine', 'aggregateRating', 'review', 'recipeCategory', 'recipeYield', 'description', 'keywords'])"
      ]
     },
     "execution_count": 13,
     "metadata": {},
     "output_type": "execute_result"
    }
   ],
   "source": [
    "metadata[2].keys()"
   ]
  },
  {
   "cell_type": "code",
   "execution_count": 14,
   "id": "c4732746",
   "metadata": {},
   "outputs": [],
   "source": [
    "import re\n",
    "def cleanhtml(raw_html):\n",
    "    cleanr = re.compile('<.*?>')\n",
    "    cleantext = re.sub(cleanr, '', raw_html)\n",
    "    return cleantext"
   ]
  },
  {
   "cell_type": "code",
   "execution_count": 18,
   "id": "a6c7db75",
   "metadata": {},
   "outputs": [
    {
     "data": {
      "text/plain": [
       "['1 tbsp. <p>extra-virgin olive oil</p>',\n",
       " '6 <p>bone-in, skin-on chicken thighs (about 2 pounds)</p>',\n",
       " '<p>Kosher salt</p>',\n",
       " '<p>Freshly ground black pepper</p>',\n",
       " '2 <p>cloves garlic, minced</p>',\n",
       " '1 tbsp. <p>fresh thyme leaves</p>',\n",
       " '1 tsp. <p>crushed red pepper flakes</p>',\n",
       " '3/4 c. <p>low-sodium chicken broth</p>',\n",
       " '1/2 c. <p>heavy cream</p>',\n",
       " '1/2 c. <p>chopped sun-dried tomatoes</p>',\n",
       " '1/4 c. <p>freshly grated Parmesan</p>',\n",
       " '<p>Freshly torn basil, for serving</p>']"
      ]
     },
     "execution_count": 18,
     "metadata": {},
     "output_type": "execute_result"
    }
   ],
   "source": [
    "metadata[2]['recipeIngredient']"
   ]
  },
  {
   "cell_type": "markdown",
   "id": "2d5ea26d",
   "metadata": {},
   "source": [
    "- Remove `<p>` tags from ingredient"
   ]
  }
 ],
 "metadata": {
  "kernelspec": {
   "display_name": "Python 3",
   "language": "python",
   "name": "python3"
  },
  "language_info": {
   "codemirror_mode": {
    "name": "ipython",
    "version": 3
   },
   "file_extension": ".py",
   "mimetype": "text/x-python",
   "name": "python",
   "nbconvert_exporter": "python",
   "pygments_lexer": "ipython3",
   "version": "3.8.8"
  }
 },
 "nbformat": 4,
 "nbformat_minor": 5
}
