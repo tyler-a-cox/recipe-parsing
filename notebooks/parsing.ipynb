{
 "cells": [
  {
   "cell_type": "code",
   "execution_count": 20,
   "id": "bd01d000",
   "metadata": {},
   "outputs": [],
   "source": [
    "import extruct\n",
    "import requests\n",
    "from pprint import pprint\n",
    "from bs4 import BeautifulSoup\n",
    "from w3lib.html import get_base_url\n",
    "from recipe_scrapers import scrape_me"
   ]
  },
  {
   "cell_type": "code",
   "execution_count": 43,
   "id": "4952252f",
   "metadata": {},
   "outputs": [],
   "source": [
    "urls = [\n",
    "    'https://cookieandkate.com/best-tahini-sauce-recipe/',\n",
    "    'https://www.bonappetit.com/recipe/chicken-tikka-masala',\n",
    "    'https://www.delish.com/cooking/recipe-ideas/recipes/a46330/skillet-sicilian-chicken-recipe/'\n",
    "]"
   ]
  },
  {
   "cell_type": "code",
   "execution_count": 3,
   "id": "ad9682de",
   "metadata": {},
   "outputs": [],
   "source": [
    "def get_html(url: str, headers: dict={}) -> bytes:\n",
    "    headers = {\n",
    "        'Access-Control-Allow-Origin': '*',\n",
    "        'Access-Control-Allow-Methods': 'GET',\n",
    "        'Access-Control-Allow-Headers': 'Content-Type',\n",
    "        'Access-Control-Max-Age': '3600',\n",
    "        'User-Agent': 'Mozilla/5.0 (X11; Ubuntu; Linux x86_64; rv:52.0) Gecko/20100101 Firefox/52.0'\n",
    "    }\n",
    "    response = requests.get(url, headers=headers)\n",
    "    return response.text"
   ]
  },
  {
   "cell_type": "code",
   "execution_count": 4,
   "id": "9567a716",
   "metadata": {},
   "outputs": [],
   "source": [
    "def get_metadata(html: bytes, url: str) -> dict:\n",
    "    metadata = extruct.extract(\n",
    "        html,\n",
    "        base_url=get_base_url(url),\n",
    "        syntaxes=['json-ld'],\n",
    "        uniform=True\n",
    "    )['json-ld']\n",
    "    if bool(metadata) and isinstance(metadata, list):\n",
    "        metadata = metadata[0]\n",
    "    return metadata"
   ]
  },
  {
   "cell_type": "code",
   "execution_count": 5,
   "id": "5ab89117",
   "metadata": {},
   "outputs": [],
   "source": [
    "def scrape(url: str, pretty_print: bool=False) -> dict:\n",
    "    \"\"\"Parse structured data from a target page.\"\"\"\n",
    "    html = get_html(url)\n",
    "    metadata = get_metadata(html, url)\n",
    "    if pretty_print:\n",
    "        pprint(metadata, indent=2, width=150)\n",
    "    return metadata"
   ]
  },
  {
   "cell_type": "code",
   "execution_count": 7,
   "id": "01d881d9",
   "metadata": {},
   "outputs": [],
   "source": [
    "metadata = [scrape(url) for url in urls]"
   ]
  },
  {
   "cell_type": "code",
   "execution_count": 11,
   "id": "af3bd650",
   "metadata": {},
   "outputs": [
    {
     "data": {
      "text/plain": [
       "dict_keys(['@context', '@graph'])"
      ]
     },
     "execution_count": 11,
     "metadata": {},
     "output_type": "execute_result"
    }
   ],
   "source": [
    "metadata[0].keys()"
   ]
  },
  {
   "cell_type": "code",
   "execution_count": 12,
   "id": "1bba3e02",
   "metadata": {},
   "outputs": [
    {
     "data": {
      "text/plain": [
       "dict_keys(['@context', '@type', 'articleBody', 'alternativeHeadline', 'keywords', 'thumbnailUrl', 'publisher', 'isPartOf', 'isAccessibleForFree', 'author', 'aggregateRating', 'description', 'image', 'headline', 'name', 'recipeIngredient', 'recipeInstructions', 'recipeYield', 'url', 'dateModified', 'datePublished'])"
      ]
     },
     "execution_count": 12,
     "metadata": {},
     "output_type": "execute_result"
    }
   ],
   "source": [
    "metadata[1].keys()"
   ]
  },
  {
   "cell_type": "code",
   "execution_count": 50,
   "id": "ab66e854",
   "metadata": {},
   "outputs": [
    {
     "data": {
      "text/plain": [
       "['6 garlic cloves, finely grated',\n",
       " '4 tsp. finely grated peeled ginger',\n",
       " '4 tsp. ground turmeric',\n",
       " '2 tsp. garam masala',\n",
       " '2 tsp. ground coriander',\n",
       " '2 tsp. ground cumin',\n",
       " '1½ cups whole-milk yogurt (not Greek)',\n",
       " '1 Tbsp. kosher salt',\n",
       " '2 lb. skinless, boneless chicken breasts, halved lengthwise',\n",
       " '3 Tbsp. ghee (clarified butter) or vegetable oil',\n",
       " '1 small onion, thinly sliced',\n",
       " '¼ cup tomato paste',\n",
       " '6 cardamom pods, crushed',\n",
       " '2 dried chiles de árbol or ½ tsp. crushed red pepper flakes',\n",
       " '1 28-oz. can whole peeled tomatoes, like San Marzano',\n",
       " '2 cups heavy cream',\n",
       " '¾ cup chopped cilantro, plus sprigs for garnish',\n",
       " 'Steamed basmati rice (for serving)']"
      ]
     },
     "execution_count": 50,
     "metadata": {},
     "output_type": "execute_result"
    }
   ],
   "source": [
    "metadata[1].get('recipeIngredient')"
   ]
  },
  {
   "cell_type": "code",
   "execution_count": 13,
   "id": "2340bf54",
   "metadata": {},
   "outputs": [
    {
     "data": {
      "text/plain": [
       "dict_keys(['@graph', '@context', 'url', 'publisher', '@type', 'author', 'datePublished', 'headline', 'image', 'mainEntityOfPage', 'thumbnailUrl', 'dateModified', 'isAccessibleForFree', 'hasPart', 'name', 'prepTime', 'cookTime', 'totalTime', 'recipeIngredient', 'recipeInstructions', 'video', 'recipeCuisine', 'aggregateRating', 'review', 'recipeCategory', 'recipeYield', 'description', 'keywords'])"
      ]
     },
     "execution_count": 13,
     "metadata": {},
     "output_type": "execute_result"
    }
   ],
   "source": [
    "metadata[2].keys()"
   ]
  },
  {
   "cell_type": "code",
   "execution_count": 49,
   "id": "5f43819c",
   "metadata": {},
   "outputs": [
    {
     "data": {
      "text/plain": [
       "['1 tbsp. <p>extra-virgin olive oil</p>',\n",
       " '6 <p>bone-in, skin-on chicken thighs (about 2 pounds)</p>',\n",
       " '<p>Kosher salt</p>',\n",
       " '<p>Freshly ground black pepper</p>',\n",
       " '2 <p>cloves garlic, minced</p>',\n",
       " '1 tbsp. <p>fresh thyme leaves</p>',\n",
       " '1 tsp. <p>crushed red pepper flakes</p>',\n",
       " '3/4 c. <p>low-sodium chicken broth</p>',\n",
       " '1/2 c. <p>heavy cream</p>',\n",
       " '1/2 c. <p>chopped sun-dried tomatoes</p>',\n",
       " '1/4 c. <p>freshly grated Parmesan</p>',\n",
       " '<p>Freshly torn basil, for serving</p>']"
      ]
     },
     "execution_count": 49,
     "metadata": {},
     "output_type": "execute_result"
    }
   ],
   "source": [
    "metadata[2].get('recipeIngredient')"
   ]
  },
  {
   "cell_type": "code",
   "execution_count": 48,
   "id": "e0c8089d",
   "metadata": {},
   "outputs": [
    {
     "name": "stdout",
     "output_type": "stream",
     "text": [
      "['4 medium-to-large cloves garlic, pressed or minced', '1/4 cup lemon juice', '1/2 cup tahini', '1/2 teaspoon fine sea salt', 'Pinch of ground cumin', '6 tablespoons ice water, more as needed']\n"
     ]
    }
   ],
   "source": [
    "for dic in metadata[0]['@graph']:\n",
    "    if tags[1] in dic.keys():\n",
    "        print (dic.get(tags[1]))"
   ]
  },
  {
   "cell_type": "code",
   "execution_count": 47,
   "id": "441231fb",
   "metadata": {},
   "outputs": [],
   "source": [
    "tags = ['totalTime', 'recipeIngredient']"
   ]
  },
  {
   "cell_type": "code",
   "execution_count": 51,
   "id": "8b0a7160",
   "metadata": {},
   "outputs": [
    {
     "data": {
      "text/plain": [
       "[{'@type': 'Question',\n",
       "  'text': 'Do you prefer cooking chicken thighs or breasts?',\n",
       "  'suggestedAnswer': [{'@type': 'Answer', 'text': 'Thighs.'},\n",
       "   {'@type': 'Answer', 'text': 'Breasts.'}]}]"
      ]
     },
     "execution_count": 51,
     "metadata": {},
     "output_type": "execute_result"
    }
   ],
   "source": [
    "metadata[2].get('@graph')"
   ]
  },
  {
   "cell_type": "code",
   "execution_count": 55,
   "id": "91663c6e",
   "metadata": {},
   "outputs": [
    {
     "data": {
      "text/plain": [
       "'https://schema.org'"
      ]
     },
     "execution_count": 55,
     "metadata": {},
     "output_type": "execute_result"
    }
   ],
   "source": [
    "metadata[0]['@context']"
   ]
  },
  {
   "cell_type": "markdown",
   "id": "fe40d781",
   "metadata": {},
   "source": [
    "## Metadata Structure"
   ]
  },
  {
   "cell_type": "code",
   "execution_count": 104,
   "id": "57ebd898",
   "metadata": {},
   "outputs": [],
   "source": [
    "metadata[0].get('@type')"
   ]
  },
  {
   "cell_type": "code",
   "execution_count": 105,
   "id": "f6231357",
   "metadata": {},
   "outputs": [
    {
     "data": {
      "text/plain": [
       "'Recipe'"
      ]
     },
     "execution_count": 105,
     "metadata": {},
     "output_type": "execute_result"
    }
   ],
   "source": [
    "metadata[1].get('@type')"
   ]
  },
  {
   "cell_type": "code",
   "execution_count": 106,
   "id": "f1c903bc",
   "metadata": {},
   "outputs": [
    {
     "data": {
      "text/plain": [
       "'Recipe'"
      ]
     },
     "execution_count": 106,
     "metadata": {},
     "output_type": "execute_result"
    }
   ],
   "source": [
    "metadata[2].get('@type')"
   ]
  },
  {
   "cell_type": "code",
   "execution_count": 119,
   "id": "835095c2",
   "metadata": {},
   "outputs": [
    {
     "name": "stdout",
     "output_type": "stream",
     "text": [
      "a\n"
     ]
    }
   ],
   "source": [
    "meta = scrape(urls[1])\n",
    "mdtype = meta.get('@type', '')\n",
    "gtype = meta.get('@graph', None)\n",
    "\n",
    "if mdtype.lower() == 'recipe':\n",
    "    print ('a')\n",
    "    data = meta\n",
    "\n",
    "elif isinstance(gtype, list):\n",
    "    print ('b')\n",
    "    for tag in gtype:\n",
    "        if tag.get('@type', '').lower() == 'recipe':\n",
    "            data = tag\n",
    "            break\n",
    "            \n",
    "else:\n",
    "    raise ValueError('Recipe not found')"
   ]
  },
  {
   "cell_type": "code",
   "execution_count": 120,
   "id": "39ef4273",
   "metadata": {},
   "outputs": [
    {
     "data": {
      "text/plain": [
       "'Recipe'"
      ]
     },
     "execution_count": 120,
     "metadata": {},
     "output_type": "execute_result"
    }
   ],
   "source": [
    "meta.get('@type', '')"
   ]
  },
  {
   "cell_type": "code",
   "execution_count": null,
   "id": "7856fa04",
   "metadata": {},
   "outputs": [],
   "source": [
    "urls"
   ]
  },
  {
   "cell_type": "code",
   "execution_count": 109,
   "id": "27f62b16",
   "metadata": {},
   "outputs": [
    {
     "data": {
      "text/plain": [
       "{'@context': 'http://schema.org',\n",
       " '@type': 'Recipe',\n",
       " 'articleBody': \"For this chicken tikka masala recipe, the yogurt helps tenderize the chicken; the garlic, ginger, and spices in the marinade infuse it with lots of flavor. This is part of BA's Best, a collection of our essential recipes.\",\n",
       " 'alternativeHeadline': 'For this chicken tikka masala recipe, the yogurt helps tenderize the chicken; the garlic, ginger, and spices in the marinade infuse it with lots of flavor.',\n",
       " 'keywords': ['recipes',\n",
       "  'cardamom',\n",
       "  'chile',\n",
       "  'cilantro',\n",
       "  'coriander',\n",
       "  'curry',\n",
       "  'party',\n",
       "  'ginger',\n",
       "  'hot pepper',\n",
       "  'indian food',\n",
       "  'tomato',\n",
       "  'yogurt',\n",
       "  'chicken recipes',\n",
       "  'dinner',\n",
       "  'web'],\n",
       " 'thumbnailUrl': 'https://assets.bonappetit.com/photos/5b69f163d3d14670539a2174/1:1/w_2666,h_2666,c_limit/ba-tikka-masala-2.jpg',\n",
       " 'publisher': {'@context': 'https://schema.org',\n",
       "  '@type': 'Organization',\n",
       "  'name': 'Bon Appétit',\n",
       "  'logo': {'@type': 'ImageObject',\n",
       "   'url': 'https://www.bonappetit.com/verso/static/bon-appetit/assets/logo-seo.328de564b950e3d5d1fbe3e42f065290ca1d3844.png',\n",
       "   'width': '479px',\n",
       "   'height': '100px'},\n",
       "  'url': 'https://www.bonappetit.com'},\n",
       " 'isPartOf': {'@type': ['CreativeWork', 'Product'], 'name': 'Bon Appétit'},\n",
       " 'isAccessibleForFree': True,\n",
       " 'author': [{'@type': 'Person',\n",
       "   'name': 'Alison Roman',\n",
       "   'sameAs': 'https://www.bonappetit.com/contributor/alison-roman'}],\n",
       " 'aggregateRating': {'@type': 'AggregateRating',\n",
       "  'ratingValue': 4.14,\n",
       "  'ratingCount': 1178},\n",
       " 'description': 'For this chicken tikka masala recipe, the yogurt helps tenderize the chicken; the garlic, ginger, and spices in the marinade infuse it with lots of flavor.',\n",
       " 'image': ['https://assets.bonappetit.com/photos/5b69f163d3d14670539a2174/5:7/w_1900,h_2660,c_limit/ba-tikka-masala-2.jpg',\n",
       "  'https://assets.bonappetit.com/photos/5b69f163d3d14670539a2174/6:9/w_1776,h_2664,c_limit/ba-tikka-masala-2.jpg',\n",
       "  'https://assets.bonappetit.com/photos/5b69f163d3d14670539a2174/5:4/w_3330,h_2664,c_limit/ba-tikka-masala-2.jpg',\n",
       "  'https://assets.bonappetit.com/photos/5b69f163d3d14670539a2174/8:5/w_4264,h_2665,c_limit/ba-tikka-masala-2.jpg',\n",
       "  'https://assets.bonappetit.com/photos/5b69f163d3d14670539a2174/3:2/w_3999,h_2666,c_limit/ba-tikka-masala-2.jpg',\n",
       "  'https://assets.bonappetit.com/photos/5b69f163d3d14670539a2174/16:9/w_4736,h_2664,c_limit/ba-tikka-masala-2.jpg',\n",
       "  'https://assets.bonappetit.com/photos/5b69f163d3d14670539a2174/4:3/w_3552,h_2664,c_limit/ba-tikka-masala-2.jpg',\n",
       "  'https://assets.bonappetit.com/photos/5b69f163d3d14670539a2174/1:1/w_2666,h_2666,c_limit/ba-tikka-masala-2.jpg'],\n",
       " 'headline': 'Chicken Tikka Masala',\n",
       " 'name': 'Chicken Tikka Masala',\n",
       " 'recipeIngredient': ['6 garlic cloves, finely grated',\n",
       "  '4 tsp. finely grated peeled ginger',\n",
       "  '4 tsp. ground turmeric',\n",
       "  '2 tsp. garam masala',\n",
       "  '2 tsp. ground coriander',\n",
       "  '2 tsp. ground cumin',\n",
       "  '1½ cups whole-milk yogurt (not Greek)',\n",
       "  '1 Tbsp. kosher salt',\n",
       "  '2 lb. skinless, boneless chicken breasts, halved lengthwise',\n",
       "  '3 Tbsp. ghee (clarified butter) or vegetable oil',\n",
       "  '1 small onion, thinly sliced',\n",
       "  '¼ cup tomato paste',\n",
       "  '6 cardamom pods, crushed',\n",
       "  '2 dried chiles de árbol or ½ tsp. crushed red pepper flakes',\n",
       "  '1 28-oz. can whole peeled tomatoes, like San Marzano',\n",
       "  '2 cups heavy cream',\n",
       "  '¾ cup chopped cilantro, plus sprigs for garnish',\n",
       "  'Steamed basmati rice (for serving)'],\n",
       " 'recipeInstructions': [{'@type': 'HowToStep',\n",
       "   'text': 'Combine garlic, ginger, turmeric, garam masala, coriander, and cumin in a small bowl. Whisk yogurt, salt, and half of spice mixture in a medium bowl; add chicken and turn to coat. Cover and chill 4-6 hours. Cover and chill remaining spice mixture.'},\n",
       "  {'@type': 'HowToStep',\n",
       "   'text': 'Heat ghee in a large heavy pot over medium heat. Add onion, tomato paste, cardamom, and chiles and cook, stirring often, until tomato paste has darkened and onion is soft, about 5 minutes. Add remaining half of spice mixture and cook, stirring often, until bottom of pot begins to brown, about 4 minutes.'},\n",
       "  {'@type': 'HowToStep',\n",
       "   'text': 'Add tomatoes with juices, crushing them with your hands as you add them. Bring to a boil, reduce heat, and simmer, stirring often and scraping up browned bits from bottom of pot, until sauce thickens, 8-10 minutes.'},\n",
       "  {'@type': 'HowToStep',\n",
       "   'text': 'Add cream and chopped cilantro. Simmer, stirring occasionally, until sauce thickens, 30-40 minutes.'},\n",
       "  {'@type': 'HowToStep',\n",
       "   'text': 'Meanwhile, preheat broiler. Line a rimmed baking sheet with foil and set a wire rack inside sheet. Arrange chicken on rack in a single layer. Broil until chicken starts to blacken in spots (it will not be cooked through), about 10 minutes.'},\n",
       "  {'@type': 'HowToStep',\n",
       "   'text': 'Cut chicken into bite-size pieces, add to sauce, and simmer, stirring occasionally, until chicken is cooked through, 8-10 minutes. Serve with rice and cilantro sprigs.\\nDo Ahead: Chicken can be made 2 days ahead. Cover; chill. Reheat before serving.'},\n",
       "  {'@type': 'HowToStep', 'text': ''}],\n",
       " 'recipeYield': '6 servings',\n",
       " 'url': 'https://www.bonappetit.com/recipe/chicken-tikka-masala',\n",
       " 'dateModified': '2013-03-07T19:00:00.000-05:00',\n",
       " 'datePublished': '2013-03-07T19:00:00.000-05:00'}"
      ]
     },
     "execution_count": 109,
     "metadata": {},
     "output_type": "execute_result"
    }
   ],
   "source": [
    "data"
   ]
  },
  {
   "cell_type": "code",
   "execution_count": null,
   "id": "66a7363b",
   "metadata": {},
   "outputs": [],
   "source": []
  }
 ],
 "metadata": {
  "kernelspec": {
   "display_name": "Python 3",
   "language": "python",
   "name": "python3"
  },
  "language_info": {
   "codemirror_mode": {
    "name": "ipython",
    "version": 3
   },
   "file_extension": ".py",
   "mimetype": "text/x-python",
   "name": "python",
   "nbconvert_exporter": "python",
   "pygments_lexer": "ipython3",
   "version": "3.8.8"
  }
 },
 "nbformat": 4,
 "nbformat_minor": 5
}
