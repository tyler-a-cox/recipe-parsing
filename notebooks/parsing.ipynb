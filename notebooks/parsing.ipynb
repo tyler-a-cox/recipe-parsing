{
 "cells": [
  {
   "cell_type": "code",
   "execution_count": 20,
   "id": "bd01d000",
   "metadata": {},
   "outputs": [],
   "source": [
    "import extruct\n",
    "import requests\n",
    "from pprint import pprint\n",
    "from bs4 import BeautifulSoup\n",
    "from w3lib.html import get_base_url\n",
    "from recipe_scrapers import scrape_me"
   ]
  },
  {
   "cell_type": "code",
   "execution_count": 43,
   "id": "4952252f",
   "metadata": {},
   "outputs": [],
   "source": [
    "urls = [\n",
    "    'https://cookieandkate.com/best-tahini-sauce-recipe/',\n",
    "    'https://www.bonappetit.com/recipe/chicken-tikka-masala',\n",
    "    'https://www.delish.com/cooking/recipe-ideas/recipes/a46330/skillet-sicilian-chicken-recipe/'\n",
    "]"
   ]
  },
  {
   "cell_type": "code",
   "execution_count": 3,
   "id": "ad9682de",
   "metadata": {},
   "outputs": [],
   "source": [
    "def get_html(url: str, headers: dict={}) -> bytes:\n",
    "    headers = {\n",
    "        'Access-Control-Allow-Origin': '*',\n",
    "        'Access-Control-Allow-Methods': 'GET',\n",
    "        'Access-Control-Allow-Headers': 'Content-Type',\n",
    "        'Access-Control-Max-Age': '3600',\n",
    "        'User-Agent': 'Mozilla/5.0 (X11; Ubuntu; Linux x86_64; rv:52.0) Gecko/20100101 Firefox/52.0'\n",
    "    }\n",
    "    response = requests.get(url, headers=headers)\n",
    "    return response.text"
   ]
  },
  {
   "cell_type": "code",
   "execution_count": 4,
   "id": "9567a716",
   "metadata": {},
   "outputs": [],
   "source": [
    "def get_metadata(html: bytes, url: str) -> dict:\n",
    "    metadata = extruct.extract(\n",
    "        html,\n",
    "        base_url=get_base_url(url),\n",
    "        syntaxes=['json-ld'],\n",
    "        uniform=True\n",
    "    )['json-ld']\n",
    "    if bool(metadata) and isinstance(metadata, list):\n",
    "        metadata = metadata[0]\n",
    "    return metadata"
   ]
  },
  {
   "cell_type": "code",
   "execution_count": 5,
   "id": "5ab89117",
   "metadata": {},
   "outputs": [],
   "source": [
    "def scrape(url: str, pretty_print: bool=False) -> dict:\n",
    "    \"\"\"Parse structured data from a target page.\"\"\"\n",
    "    html = get_html(url)\n",
    "    metadata = get_metadata(html, url)\n",
    "    if pretty_print:\n",
    "        pprint(metadata, indent=2, width=150)\n",
    "    return metadata"
   ]
  },
  {
   "cell_type": "code",
   "execution_count": 7,
   "id": "01d881d9",
   "metadata": {},
   "outputs": [],
   "source": [
    "metadata = [scrape(url) for url in urls]"
   ]
  },
  {
   "cell_type": "code",
   "execution_count": 11,
   "id": "667dc199",
   "metadata": {},
   "outputs": [
    {
     "data": {
      "text/plain": [
       "dict_keys(['@context', '@graph'])"
      ]
     },
     "execution_count": 11,
     "metadata": {},
     "output_type": "execute_result"
    }
   ],
   "source": [
    "metadata[0].keys()"
   ]
  },
  {
   "cell_type": "code",
   "execution_count": 12,
   "id": "be9e6049",
   "metadata": {},
   "outputs": [
    {
     "data": {
      "text/plain": [
       "dict_keys(['@context', '@type', 'articleBody', 'alternativeHeadline', 'keywords', 'thumbnailUrl', 'publisher', 'isPartOf', 'isAccessibleForFree', 'author', 'aggregateRating', 'description', 'image', 'headline', 'name', 'recipeIngredient', 'recipeInstructions', 'recipeYield', 'url', 'dateModified', 'datePublished'])"
      ]
     },
     "execution_count": 12,
     "metadata": {},
     "output_type": "execute_result"
    }
   ],
   "source": [
    "metadata[1].keys()"
   ]
  },
  {
   "cell_type": "code",
   "execution_count": 50,
   "id": "087071bd",
   "metadata": {},
   "outputs": [
    {
     "data": {
      "text/plain": [
       "['6 garlic cloves, finely grated',\n",
       " '4 tsp. finely grated peeled ginger',\n",
       " '4 tsp. ground turmeric',\n",
       " '2 tsp. garam masala',\n",
       " '2 tsp. ground coriander',\n",
       " '2 tsp. ground cumin',\n",
       " '1½ cups whole-milk yogurt (not Greek)',\n",
       " '1 Tbsp. kosher salt',\n",
       " '2 lb. skinless, boneless chicken breasts, halved lengthwise',\n",
       " '3 Tbsp. ghee (clarified butter) or vegetable oil',\n",
       " '1 small onion, thinly sliced',\n",
       " '¼ cup tomato paste',\n",
       " '6 cardamom pods, crushed',\n",
       " '2 dried chiles de árbol or ½ tsp. crushed red pepper flakes',\n",
       " '1 28-oz. can whole peeled tomatoes, like San Marzano',\n",
       " '2 cups heavy cream',\n",
       " '¾ cup chopped cilantro, plus sprigs for garnish',\n",
       " 'Steamed basmati rice (for serving)']"
      ]
     },
     "execution_count": 50,
     "metadata": {},
     "output_type": "execute_result"
    }
   ],
   "source": [
    "metadata[1].get('recipeIngredient')"
   ]
  },
  {
   "cell_type": "code",
   "execution_count": 13,
   "id": "65271edd",
   "metadata": {},
   "outputs": [
    {
     "data": {
      "text/plain": [
       "dict_keys(['@graph', '@context', 'url', 'publisher', '@type', 'author', 'datePublished', 'headline', 'image', 'mainEntityOfPage', 'thumbnailUrl', 'dateModified', 'isAccessibleForFree', 'hasPart', 'name', 'prepTime', 'cookTime', 'totalTime', 'recipeIngredient', 'recipeInstructions', 'video', 'recipeCuisine', 'aggregateRating', 'review', 'recipeCategory', 'recipeYield', 'description', 'keywords'])"
      ]
     },
     "execution_count": 13,
     "metadata": {},
     "output_type": "execute_result"
    }
   ],
   "source": [
    "metadata[2].keys()"
   ]
  },
  {
   "cell_type": "code",
   "execution_count": 49,
   "id": "70c44ec1",
   "metadata": {},
   "outputs": [
    {
     "data": {
      "text/plain": [
       "['1 tbsp. <p>extra-virgin olive oil</p>',\n",
       " '6 <p>bone-in, skin-on chicken thighs (about 2 pounds)</p>',\n",
       " '<p>Kosher salt</p>',\n",
       " '<p>Freshly ground black pepper</p>',\n",
       " '2 <p>cloves garlic, minced</p>',\n",
       " '1 tbsp. <p>fresh thyme leaves</p>',\n",
       " '1 tsp. <p>crushed red pepper flakes</p>',\n",
       " '3/4 c. <p>low-sodium chicken broth</p>',\n",
       " '1/2 c. <p>heavy cream</p>',\n",
       " '1/2 c. <p>chopped sun-dried tomatoes</p>',\n",
       " '1/4 c. <p>freshly grated Parmesan</p>',\n",
       " '<p>Freshly torn basil, for serving</p>']"
      ]
     },
     "execution_count": 49,
     "metadata": {},
     "output_type": "execute_result"
    }
   ],
   "source": [
    "metadata[2].get('recipeIngredient')"
   ]
  },
  {
   "cell_type": "code",
   "execution_count": 48,
   "id": "b38b4578",
   "metadata": {},
   "outputs": [
    {
     "name": "stdout",
     "output_type": "stream",
     "text": [
      "['4 medium-to-large cloves garlic, pressed or minced', '1/4 cup lemon juice', '1/2 cup tahini', '1/2 teaspoon fine sea salt', 'Pinch of ground cumin', '6 tablespoons ice water, more as needed']\n"
     ]
    }
   ],
   "source": [
    "for dic in metadata[0]['@graph']:\n",
    "    if tags[1] in dic.keys():\n",
    "        print (dic.get(tags[1]))"
   ]
  },
  {
   "cell_type": "code",
   "execution_count": 47,
   "id": "183f7b7e",
   "metadata": {},
   "outputs": [],
   "source": [
    "tags = ['totalTime', 'recipeIngredient']"
   ]
  },
  {
   "cell_type": "code",
   "execution_count": 51,
   "id": "f06d7f1d",
   "metadata": {},
   "outputs": [
    {
     "data": {
      "text/plain": [
       "[{'@type': 'Question',\n",
       "  'text': 'Do you prefer cooking chicken thighs or breasts?',\n",
       "  'suggestedAnswer': [{'@type': 'Answer', 'text': 'Thighs.'},\n",
       "   {'@type': 'Answer', 'text': 'Breasts.'}]}]"
      ]
     },
     "execution_count": 51,
     "metadata": {},
     "output_type": "execute_result"
    }
   ],
   "source": [
    "metadata[2].get('@graph')"
   ]
  },
  {
   "cell_type": "code",
   "execution_count": 55,
   "id": "017de43d",
   "metadata": {},
   "outputs": [
    {
     "data": {
      "text/plain": [
       "'https://schema.org'"
      ]
     },
     "execution_count": 55,
     "metadata": {},
     "output_type": "execute_result"
    }
   ],
   "source": [
    "metadata[0]['@context']"
   ]
  },
  {
   "cell_type": "markdown",
   "id": "b72bf5f7",
   "metadata": {},
   "source": [
    "## Metadata Structure"
   ]
  },
  {
   "cell_type": "code",
   "execution_count": 104,
   "id": "0caaf418",
   "metadata": {},
   "outputs": [],
   "source": [
    "metadata[0].get('@type')"
   ]
  },
  {
   "cell_type": "code",
   "execution_count": 105,
   "id": "f54e6121",
   "metadata": {},
   "outputs": [
    {
     "data": {
      "text/plain": [
       "'Recipe'"
      ]
     },
     "execution_count": 105,
     "metadata": {},
     "output_type": "execute_result"
    }
   ],
   "source": [
    "metadata[1].get('@type')"
   ]
  },
  {
   "cell_type": "code",
   "execution_count": 106,
   "id": "ff0d8945",
   "metadata": {},
   "outputs": [
    {
     "data": {
      "text/plain": [
       "'Recipe'"
      ]
     },
     "execution_count": 106,
     "metadata": {},
     "output_type": "execute_result"
    }
   ],
   "source": [
    "metadata[2].get('@type')"
   ]
  },
  {
   "cell_type": "code",
   "execution_count": 119,
   "id": "60bf03bb",
   "metadata": {},
   "outputs": [
    {
     "name": "stdout",
     "output_type": "stream",
     "text": [
      "a\n"
     ]
    }
   ],
   "source": [
    "meta = scrape(urls[1])\n",
    "mdtype = meta.get('@type', '')\n",
    "gtype = meta.get('@graph', None)\n",
    "\n",
    "if mdtype.lower() == 'recipe':\n",
    "    print ('a')\n",
    "    data = meta\n",
    "\n",
    "elif isinstance(gtype, list):\n",
    "    print ('b')\n",
    "    for tag in gtype:\n",
    "        if tag.get('@type', '').lower() == 'recipe':\n",
    "            data = tag\n",
    "            break\n",
    "            \n",
    "else:\n",
    "    raise ValueError('Recipe not found')"
   ]
  },
  {
   "cell_type": "code",
   "execution_count": 120,
   "id": "154dc979",
   "metadata": {},
   "outputs": [
    {
     "data": {
      "text/plain": [
       "'Recipe'"
      ]
     },
     "execution_count": 120,
     "metadata": {},
     "output_type": "execute_result"
    }
   ],
   "source": [
    "meta.get('@type', '')"
   ]
  }
 ],
 "metadata": {
  "kernelspec": {
   "display_name": "Python 3",
   "language": "python",
   "name": "python3"
  },
  "language_info": {
   "codemirror_mode": {
    "name": "ipython",
    "version": 3
   },
   "file_extension": ".py",
   "mimetype": "text/x-python",
   "name": "python",
   "nbconvert_exporter": "python",
   "pygments_lexer": "ipython3",
   "version": "3.8.8"
  }
 },
 "nbformat": 4,
 "nbformat_minor": 5
}
