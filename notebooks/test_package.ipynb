{
 "cells": [
  {
   "cell_type": "code",
   "execution_count": 29,
   "id": "946a75e9",
   "metadata": {},
   "outputs": [],
   "source": [
    "from recipe_parser import scrape, IngredientParser\n",
    "import re\n",
    "from recipe_scrapers import scrape_me"
   ]
  },
  {
   "cell_type": "code",
   "execution_count": 30,
   "id": "45677ddb",
   "metadata": {},
   "outputs": [],
   "source": [
    "url = 'https://www.allrecipes.com/recipe/10813/best-chocolate-chip-cookies/'"
   ]
  },
  {
   "cell_type": "code",
   "execution_count": 37,
   "id": "3c9c45a6",
   "metadata": {},
   "outputs": [
    {
     "name": "stdout",
     "output_type": "stream",
     "text": [
      "CPU times: user 241 ms, sys: 7.11 ms, total: 248 ms\n",
      "Wall time: 583 ms\n"
     ]
    }
   ],
   "source": [
    "%time page = scrape(url)"
   ]
  },
  {
   "cell_type": "code",
   "execution_count": 38,
   "id": "543f257f",
   "metadata": {},
   "outputs": [
    {
     "name": "stdout",
     "output_type": "stream",
     "text": [
      "CPU times: user 204 ms, sys: 3.95 ms, total: 208 ms\n",
      "Wall time: 375 ms\n"
     ]
    }
   ],
   "source": [
    "%time _ = scrape_me(url)"
   ]
  },
  {
   "cell_type": "code",
   "execution_count": 19,
   "id": "55708fcc",
   "metadata": {},
   "outputs": [],
   "source": [
    "ip = IngredientParser() "
   ]
  },
  {
   "cell_type": "code",
   "execution_count": 20,
   "id": "e5e58d64",
   "metadata": {},
   "outputs": [],
   "source": [
    "stores = []\n",
    "\n",
    "pattern = re.compile('(tps.|teaspoons)')\n",
    "\n",
    "for ingredient in page['ingredients']:\n",
    "    stores.append(ip.parse(re.sub(pattern, 'teaspoon', ingredient)))"
   ]
  },
  {
   "cell_type": "markdown",
   "id": "5c75ae87",
   "metadata": {},
   "source": [
    "The model needs work"
   ]
  },
  {
   "cell_type": "code",
   "execution_count": 21,
   "id": "05cb5cc1",
   "metadata": {},
   "outputs": [
    {
     "name": "stdout",
     "output_type": "stream",
     "text": [
      "1 cup butter, softened \n",
      "1 QUANTITY\n",
      "cup UNIT\n",
      "butter PRODUCT\n",
      "1 cup white sugar \n",
      "1 QUANTITY\n",
      "cup UNIT\n",
      "white sugar PRODUCT\n",
      "1 cup packed brown sugar \n",
      "1 QUANTITY\n",
      "cup UNIT\n",
      "brown sugar PRODUCT\n",
      "2 eggs \n",
      "2 QUANTITY\n",
      "eggs PRODUCT\n",
      "2 teaspoons vanilla extract \n",
      "2 QUANTITY\n",
      "teaspoon UNIT\n",
      "vanilla extract PRODUCT\n",
      "1 teaspoon baking soda \n",
      "1 QUANTITY\n",
      "teaspoon UNIT\n",
      "baking soda PRODUCT\n",
      "2 teaspoons hot water \n",
      "2 QUANTITY\n",
      "teaspoon UNIT\n",
      "water PRODUCT\n",
      "1/2 teaspoon salt \n",
      "1/2 QUANTITY\n",
      "teaspoon UNIT\n",
      "salt PRODUCT\n",
      "3 cups all-purpose flour \n",
      "3 QUANTITY\n",
      "cups UNIT\n",
      "all-purpose flour PRODUCT\n",
      "2 cups semisweet chocolate chips \n",
      "2 QUANTITY\n",
      "cups UNIT\n",
      "chocolate chips PRODUCT\n",
      "1 cup chopped walnuts \n",
      "1 QUANTITY\n",
      "cup UNIT\n",
      "walnuts PRODUCT\n"
     ]
    }
   ],
   "source": [
    "for i, store in enumerate(stores):\n",
    "    print (page['ingredients'][i])\n",
    "    for X in store.ents:\n",
    "        print (X.text, X.label_)"
   ]
  },
  {
   "cell_type": "code",
   "execution_count": 28,
   "id": "11fb8d30",
   "metadata": {},
   "outputs": [
    {
     "name": "stdout",
     "output_type": "stream",
     "text": [
      "0 - Preheat oven to 350 degrees F (175 degrees C).\n",
      "1 - Cream together the butter, white sugar, and brown sugar until smooth. Beat in the eggs one at a time, then stir in the vanilla. Dissolve baking soda in hot water. Add to batter along with salt. Stir in flour, chocolate chips, and nuts. Drop by large spoonfuls onto ungreased pans.\n",
      "2 - Bake for about 10 minutes in the preheated oven, or until edges are nicely browned.\n"
     ]
    }
   ],
   "source": [
    "for i, instruction in enumerate(page['instructions']):\n",
    "    print (i, '-', instruction)"
   ]
  }
 ],
 "metadata": {
  "kernelspec": {
   "display_name": "Python 3",
   "language": "python",
   "name": "python3"
  },
  "language_info": {
   "codemirror_mode": {
    "name": "ipython",
    "version": 3
   },
   "file_extension": ".py",
   "mimetype": "text/x-python",
   "name": "python",
   "nbconvert_exporter": "python",
   "pygments_lexer": "ipython3",
   "version": "3.8.8"
  }
 },
 "nbformat": 4,
 "nbformat_minor": 5
}
